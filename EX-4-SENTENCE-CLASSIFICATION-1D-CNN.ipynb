{
 "cells": [
  {
   "cell_type": "markdown",
   "id": "24e4a56a-862a-49e6-becb-a62cdba861c4",
   "metadata": {},
   "source": [
    "# Sentence Classifier using 1D CNN"
   ]
  },
  {
   "cell_type": "code",
   "execution_count": 1,
   "id": "3cddb231-f361-47f6-8024-d124a71ada5e",
   "metadata": {},
   "outputs": [
    {
     "name": "stderr",
     "output_type": "stream",
     "text": [
      "2024-04-16 18:38:13.205253: I tensorflow/core/platform/cpu_feature_guard.cc:210] This TensorFlow binary is optimized to use available CPU instructions in performance-critical operations.\n",
      "To enable the following instructions: AVX2 FMA, in other operations, rebuild TensorFlow with the appropriate compiler flags.\n",
      "2024-04-16 18:38:13.873175: W tensorflow/compiler/tf2tensorrt/utils/py_utils.cc:38] TF-TRT Warning: Could not find TensorRT\n"
     ]
    }
   ],
   "source": [
    "import matplotlib.pyplot as plt\n",
    "import os\n",
    "import re\n",
    "import string\n",
    "import shutil\n",
    "import tensorflow as tf\n",
    "from tensorflow.keras import layers, losses, callbacks, Sequential"
   ]
  },
  {
   "cell_type": "code",
   "execution_count": 2,
   "id": "645f3701-c4d5-4aca-8875-b7751e2c842b",
   "metadata": {},
   "outputs": [
    {
     "name": "stdout",
     "output_type": "stream",
     "text": [
      "Downloading data from https://ai.stanford.edu/~amaas/data/sentiment/aclImdb_v1.tar.gz\n",
      "\u001b[1m84125825/84125825\u001b[0m \u001b[32m━━━━━━━━━━━━━━━━━━━━\u001b[0m\u001b[37m\u001b[0m \u001b[1m54s\u001b[0m 1us/step\n"
     ]
    }
   ],
   "source": [
    "url = \"https://ai.stanford.edu/~amaas/data/sentiment/aclImdb_v1.tar.gz\"\n",
    "dataset = tf.keras.utils.get_file(\n",
    "    \"aclImdb_v1\" , url,\n",
    "    untar=True, cache_dir='',\n",
    "    cache_subdir=''\n",
    ")\n",
    "dataset_dir = os.path.join(os.path.dirname(dataset), 'aclImdb')"
   ]
  },
  {
   "cell_type": "code",
   "execution_count": 3,
   "id": "2aa6f5b6-168f-4efe-830c-7a3804952805",
   "metadata": {},
   "outputs": [
    {
     "data": {
      "text/plain": [
       "['test', 'train', 'imdbEr.txt', 'imdb.vocab', 'README']"
      ]
     },
     "execution_count": 3,
     "metadata": {},
     "output_type": "execute_result"
    }
   ],
   "source": [
    "os.listdir(dataset_dir)"
   ]
  },
  {
   "cell_type": "code",
   "execution_count": 4,
   "id": "6fa571d8-93f2-42a4-978f-9ab60ff7e8f7",
   "metadata": {},
   "outputs": [
    {
     "data": {
      "text/plain": [
       "['neg',\n",
       " 'pos',\n",
       " 'unsup',\n",
       " 'unsupBow.feat',\n",
       " 'labeledBow.feat',\n",
       " 'urls_neg.txt',\n",
       " 'urls_pos.txt',\n",
       " 'urls_unsup.txt']"
      ]
     },
     "execution_count": 4,
     "metadata": {},
     "output_type": "execute_result"
    }
   ],
   "source": [
    "train_dir = os.path.join(dataset_dir, 'train')\n",
    "os.listdir(train_dir)"
   ]
  },
  {
   "cell_type": "code",
   "execution_count": 5,
   "id": "897058a6-0966-4382-94c6-65080a9c785a",
   "metadata": {},
   "outputs": [],
   "source": [
    "shutil.rmtree(os.path.join(train_dir, \"unsup\"))"
   ]
  },
  {
   "cell_type": "code",
   "execution_count": 6,
   "id": "9f3890df-5370-44b8-8703-d7c59603c1df",
   "metadata": {},
   "outputs": [
    {
     "name": "stdout",
     "output_type": "stream",
     "text": [
      "Found 25000 files belonging to 2 classes.\n",
      "Using 20000 files for training.\n"
     ]
    },
    {
     "name": "stderr",
     "output_type": "stream",
     "text": [
      "2024-04-16 18:39:21.631096: I external/local_xla/xla/stream_executor/cuda/cuda_executor.cc:998] successful NUMA node read from SysFS had negative value (-1), but there must be at least one NUMA node, so returning NUMA node zero. See more at https://github.com/torvalds/linux/blob/v6.0/Documentation/ABI/testing/sysfs-bus-pci#L344-L355\n",
      "2024-04-16 18:39:21.631392: W tensorflow/core/common_runtime/gpu/gpu_device.cc:2251] Cannot dlopen some GPU libraries. Please make sure the missing libraries mentioned above are installed properly if you would like to use GPU. Follow the guide at https://www.tensorflow.org/install/gpu for how to download and setup the required libraries for your platform.\n",
      "Skipping registering GPU devices...\n"
     ]
    },
    {
     "name": "stdout",
     "output_type": "stream",
     "text": [
      "Found 25000 files belonging to 2 classes.\n",
      "Using 5000 files for validation.\n",
      "Found 25000 files belonging to 2 classes.\n"
     ]
    }
   ],
   "source": [
    "batch_size = 32\n",
    "seed = 42\n",
    "\n",
    "raw_train_ds = tf.keras.utils.text_dataset_from_directory(\n",
    "    train_dir,\n",
    "    batch_size=batch_size,\n",
    "    validation_split=0.2,\n",
    "    subset='training',\n",
    "    seed=seed\n",
    ")\n",
    "raw_val_ds = tf.keras.utils.text_dataset_from_directory(\n",
    "    train_dir,\n",
    "    batch_size=batch_size,\n",
    "    validation_split=0.2,\n",
    "    subset='validation',\n",
    "    seed=seed\n",
    ")\n",
    "raw_test_ds = tf.keras.utils.text_dataset_from_directory(\n",
    "    os.path.join(dataset_dir, 'test'),\n",
    "    batch_size=batch_size,\n",
    ")\n"
   ]
  },
  {
   "cell_type": "code",
   "execution_count": 7,
   "id": "3b7324f8-c81d-42d2-975f-553528d8c7e5",
   "metadata": {},
   "outputs": [
    {
     "name": "stdout",
     "output_type": "stream",
     "text": [
      "(<tf.Tensor: shape=(32,), dtype=string, numpy=\n",
      "array([b\"Unlike some of the former commentators, I was (and am) an avid fan of the Carpenters. Face it, Christmas would never be Christmas without The Carpenters. That said, I believe the movie did a good, not excellent, job at depicting Karen's life. The movie was enjoyable to see on primetime TV, but the content fell a little short. I suggest that you all look into getting some of the Carpenters specials that were shown in the 70's. You cannot believe how awesome a drummer Karen was. Cynthia did not capture the extent of Karen's talent. Also, Karen was beautiful but had a bad hairdresser. My choice for playing Karen is Hilary Swank. I would love to see a more substantive story, because there was more to Karen than meets the eyes when listening to We've Only Just Begun. I have tons of unreleased Carpenters' music, and it is absolutely excellent. (Her singing of California Dreamin is to die for).\",\n",
      "       b'Jimmy Stewart was a real life pilot, WWII flier and a one-star general in the Air Force and therefore a natural for how real pilots react when they fly. When you see the faithful recreation of the actual plane, you begin to understand the real-life bravery and courage of Lucky Lindy when he flew the Atlantic solo in 1927!',\n",
      "       b'Let\\'s see. This movie is many things to different people. To Finns, as shown by the comments, it can be OK or dreadful or boring. To other folks, it can be something different. First off: if you do not speak Finnish (I do), you will understand half of what is going on, as subtitles are dreadful and even the title is translated incorrectly (\"Paha maa\" would probably be idiomatically translated as Badlands in UK English).<br /><br />Why did I not like it? Because it is a Tarantino-style movie: it simply takes a very harsh reality and throws it back at you, as brutally as possible. I, however, am not American, and thus I am not particularly fond of this proceeding, because all it does is show that the director has really nothing new to say. Technical prowess (camera work is brilliant), script (not that unoriginal) do not rescue this movie from the bottom where it belongs. Should you wish to see a Finnish movie, then go for any of the Kaurism\\xc3\\xa4ki brothers\\' movie, who match talent and directorial skill, with very good actresses and actors. <br /><br />This director ought to review his intention and priorities: none was intelligible, and thus this film failed. By not watching it you won\\'t miss much.',\n",
      "       b\"A ditzy girl (yes, ditzy is about as complex as her character gets) won't take no for an answer and does quirky things to get her husband back. It's too far-fetched to be believable with such flimsy characters going through the motions. But not far-fetched enough to be fascinating in the way that say, Being John Malkovich, was. So it ends up boring.<br /><br />sv\",\n",
      "       b'29 Sept 1990 marked a small but important milestone in my appreciation of horror flicks. This was the date that BBC1 broadcast (for the only time I\\'m aware of) Jeff Lieberman\\'s super-creepy 1981 shocker Just Before Dawn, and it made a huge impression on me. Nearly twenty years later, I\\'m delighted to report that I\\'ve finally got my hands on the two-disc Shriek Show / Media Blasters special edition, and it\\'s just as eerie and unsettling as I remember it, if not more so.<br /><br />The plot, as is usual for genre flicks (and this was Lieberman\\'s first film as a \\'director for hire\\', though he did at least remove all the religious cult snake-handling mumbo-jumbo from the screenplay), is a bit thin - five likable twenty-somethings (including Chris Lemmon, son of Jack, in a pair of uncomfortably tight white strides) venture into the dense Oregon woodlands to do a spot of camping and to check out a patch of land that\\'s been bequeathed to one of their number. But Just Before Dawn stands out from a crowd of imitators because Lieberman wastes no time in showing us just how deranged things are on this particular patch of mountain, with a complete innocent skewered and a drunk preacher\\'s truck shoved down a hill and engulfed in flames within minutes of the film beginning. The youngsters come rolling into the picture in a snappy Winnebago, Blondie\\'s \\'Heart of Glass\\' pounding on the soundtrack, and before you can say \"Texas Chainsaw Massacre!\" they\\'ve clobbered an innocent deer with the front bumper and had their first taste of aggro from the heavy-set maniac responsible for the opening catastrophes. Forest ranger Roy (George Kennedy) warns them that things are likely to go awry if they go any further, but they go ahead with the trip anyway, refusing to give the sozzled preacher a ride even though he\\'s understandably scared witless and finally pitching camp miles from anywhere. Needless to say, things go downhill from here.<br /><br />Although this film\\'s not short on bloody horror and well-handled action scenes, the standout moments for me are those where Lieberman lets his camera zoom out, long and slow, from apparently innocuous shots of the fun-loving kids larking around in the wilderness, or just lets it settle for a while on the dense, imposing, people-dwarfing woodlands. He makes the Oregon exteriors as threatening and as ominous as Kubrick made the Overlook Hotel\\'s spacious interiors in the Shining, and Brad Fiedel\\'s score (discounting the horribly distorted racket that runs over the titles) stays the right side of intrusive, underscoring the slowly escalating menace with subtlety and flair. There are plenty of surprises along the way, nods to Deliverance with the discovery of a backwoods babe and her freaky, disturbing family, and a truly bizarre kill technique deployed shortly before the film\\'s end. I won\\'t spoil it for you. I\\'ve said enough.<br /><br />Quite why this undervalued horror gem fell through the cracks and became a cult item instead of a breakout hit is hard to ascertain, but hopefully it will be rediscovered and appreciated for years to come - it deserves to be.',\n",
      "       b\"If this was the best dutch cinema had to offer these years, my worst fears have come true. I have NEVER, even in dutch movies, seen worse acting. I couldn't get myself to watch it for more than 40 minutes, so if that's the cause of me missing the genius, so be it.<br /><br />\",\n",
      "       b\"As cute and adorable as they are, the story of three singing chipmunks just doesn't seem to have enough meat to it to sustain it for an hour and a half. I thought that the first half hour or so of this movie was well worth watching. It was fun, it had a few laughs in it, it was full of energy. Then it somehow just lost that. I wouldn't even say it faded away, because it seemed quite abrupt to me. The fun was gone; the laughter disappeared. My daughter noticed it, too. She's 4 - she laughed uproariously several times in that first part of the movie, then her laughter stopped. Perhaps it took on too serious a tone - the evil movie producer working the chipmunks to death. Something happened, anyway, and it wasn't for the better.<br /><br />Of course, the movie is trying to tell the story of how the chipmunks (Alvin, Simon and Theodore) began. Everyone knows the Christmas song. Here we discover how they met Dave and got their start. The movie is updated to the present time, although their real origin is noted by Dave's street address of 1958, which was the year when the animated singing rodents were first created. Jason Lee did a pretty good job as Dave and the chipmunk voices were also pretty good. David Cross as the evil Ian irritated me to be blunt, and I couldn't figure out the point of the character of Claire, played by Cameron Richardson. She added little to the movie. It's a movie you can watch with the kids - it's probably a movie you'd only want to watch with the kids, in fact. It gets a 4/10 from me.\",\n",
      "       b\"Life was going great for New York City advertising artist Ted Kramer. He had a great job and a loving wife. No, actually, his wife wasn't so loving, for when Ted returned home late from work that night his wife, Joanna, had a suit case packed and was heading out the door. He tried to stop her, but she just got into the elevator and out of Ted's life. Well, now in addition to his job he's now got to mind the house as well as their 6-year-old son, Billy; Ted assured his boss that his wife's leaving would not affect his job performance in any way. It did however affect his performance as a father. He blew up when Billy spilled punch on his client artwork! Well, some time later Ted and Billy receive a letter from Joanna, and it was obvious from her letter that she wasn't coming back. Ted was distraught. Well, he was late coming home from work on Billy's birthday, which made Billy sore at him. <br /><br />Ted was late to work one day and his boss yelled at him because he had missed a very important client meeting. When he got home, he yelled at Billy for sneaking ice cream during dinner. Then later he truthfully told Billy that the break-up between he and Joanna may have been his fault, not Billy's; Ted invited a good friend, Phyllis Bernard over that night, and well, Billy got his first look at a naked woman. When Ted took Billy to the park the following day, he fell off the jungle gym and landed face-first onto his toy plane. Ted literally ran him to the hospital where they had to administer stitches. After that, life began taking a downward spiral for Ted. Then one day out of the blue he received a phone call from none other than Joanna! They met in a corner caf\\xc3\\xa9. At first they have a pleasant conversation but then Joanna informs him that she has returned to collect her son and take him with her. Ted would have none of it and stormed out. Well life got even worse for Ted when his boss, Jim O'Connor, took him out to lunch and abruptly fired him. Not only that but Joanna was choosing to sue for custody of Billy, and without a job, Ted didn't stand a chance in hell for winning. He hired himself a lawyer, John Shaunessy, who charged a pretty penny: $15,000 exact change. And that's IF they win. <br /><br />Ted was also able to find a new job. It was actually a step down from what he used to do with a considerable cut in salary but he accepted with great determination. Finally the court date, January 9, 1980, arrived. Judge Atkins presiding. Joanna took the stand and Shaunessy proceeded to question her about why she left Ted and about her other relationships and how they were failures. The next day, Ted took the stand and Joanna's lawyer really grilled him like a cheeseburger. Ted's good friend Margaret took the stand as well and she really didn't help matters. Well, the judge took some time to think it over and sure enough, one day Shaunessy informs Ted that he lost. Joanna got sole custody of Billy. How typical! Always ruling in favor of the mother. Well, Ted and Billy were just devastated about parting ways. They had a tearful goodbye when suddenly Joanna stopped by. She and Ted have a little talk and well, rather than just give away the ending, let me assure everybody that everything turns out alright for everybody!<br /><br />This was a very good movie. Dustin Hoffman was very good. He earned that Academy Award. I've also seen him in Hook, Meet the Fockers and Rain Man, which he also won an Oscar for. Meryl Streep was good. She also got an Oscar. Justin Henry was good too, so where was his nomination? I guess the Academy had a rule against giving Oscars to children, but the rule was lifted when Haley Joel Osment came along. This movie has great drama, light comedy, and is very subtle. It does a good job of holding your attention. I was watching Rain Man on TCM the other night then this came on after and I just couldn't help but watch. And that's what you should do. If you like Dustin Hoffman or Meryl Streep or movies of this genre, then I recommend Kramer vs. Kramer! A gripping film about the pangs of two divorced parents fighting over their child. I liked Ted's little speech about ruling in favor of mothers all the time. What was it about sex that makes a good parents? Actually, that's how they have the child. But seriously, he's right. Why always rule in favor of the mother because she's a woman? Also in the cast, George Coe, Howard Duff, who passed away in 1990, and Howland Chamberlain who passed away in 1984. Watch for an up-and-coming JoBeth Williams in the nudity in the hallway scene. Anyway, see Kramer vs. Kramer today!!! Good movie!!<br /><br />-\",\n",
      "       b\"A party-hardy frat boy's sister is brutally murdered by a street gang, sending the young man into a sudden psychotic rampage. He and his buddies massacre half the city to bring his sister back to life.<br /><br />SAVAGE STREETS was released a year after this film, and was more entertaining. Linnea Quigley, who has a costarring role in this film as the sexy (and briefly nude) girlfriend of one of the guys, also starred in SAVAGE STREETS.<br /><br />This film is subpar, though it delivers enough escapist entertainment and gratuitous nudity to please its intended audience (me).<br /><br />MPAA: Rated R for strong violence, nudity, language, and some sexuality.\",\n",
      "       b\"I have seen many of Shahrukh's movies and this is a very good role for him. He has such versatility, but he mainly stays in positive roles. As Rahul, he is very dark and disturbing, yet I found myself sympathizing with him much of the movie. If for nothing else, watch this movie for Shahrukh. He plays a very complex and real character very convincingly. The story is very typical and has been done before, but the character development is very strong and entertaining. The opening is a little confusing, but by the end, it doesn't matter. The songs I found very likable and give insight to what characters are thinking. Very clever. I think this movie was very good and recommend it to all Shahrukh Khan fans. It is a must see!\",\n",
      "       b'Two of Hollywood\\'s great child stars (Elizabeth Taylor and Mickey Rooney) are perfectly teamed to deliver one of the all-time family classics. The story of a determined 12 year old girl, whose adoration for horses won\\'t allow her to turn away from her goal to win the British Nationals. Mickey Rooney is the newly orphaned drifter, looking to tie himself over until he can follow his own dreams.<br /><br />A beautiful side plot reveals that the girl\\'s mother had ambitions of her own as a young girl. Repeatedly overruling the father\\'s decisions in favor of their spirited daughter, it is mother who seems to know best. The scene where the exhausted Taylor rushes to go to school is priceless: father protests \"why did you let her go to school, she\\'ll drop from exhaustion before noon!\" - Not to worry, she\\'d be back within a half hour; it was Saturday! The brilliant Technicolor, the sumptuous music score, and those beautiful faces, all telling a bittersweet story. Here\\'s a good reason for the old saying: They don\\'t make\\'m like that anymore!',\n",
      "       b\"This movie started out confusing and grew into one of the best movies I have seen... The acting was utterly superb and when I wasn't drying my tears I enjoyed Meryl Streep, who's performance was extraordinary. The movie deals with the hardships of a distant family coping with a mother who develops terminal cancer. The movie was very difficult to watch and heartbreaking. The soundtrack fits this movie to a tee. Brava Bette Midler!! Out of 5 stars, I give this one 4 1/2.\",\n",
      "       b'It was Libby talking to Desmond in the flashback, and if anyone is confused about her past (like how did she end up in the same hospital Hurley was in) then you should know that despited Libby dying in season 2, the character will be explored more in season 3 and we will get answers to questions surrounding her.<br /><br />BTW, great episode. It had a really great cliffhanger and some interesting questions...like what happened to Eko and Lock and what about the four toe statue?<br /><br />I cannot wait till season 3, Lost just rules!!! I hope all the unanswered questions will be answered. I loved how they explained why the plane actually crashed. Desmond did it when he did not manage to type in the numbers in time. 4 8 15 16 23 42',\n",
      "       b'Low-budget schlockmeister Herschell Gordon Lewis reaches a new low (even for him) with \"The Gore Gore Girls,\" a \\'film\\' (snicker) that possesses all of his technical trademarks: badly-recorded sound, poor lighting, and OTT gore. This would be tolerable, even a bit charming, if the film at least had an interesting plot (\"Blood Feast,\" in all its ridiculous glory, is a fine example), but \"Girls\" is a total snooze. Completely unlikable pompous-ass private investigator Abraham Gentry (Frank Kress) is recruited by a newspaper reporter to find out who\\'s been murdering out-of-shape strippers (you\\'ll stop caring who the culprit is long before these two are wrapping up the case). As before, the appeal isn\\'t the plot, but the creative methods of bloodletting (including a girl\\'s fanny being tenderized with a wooden mallet) and the occasional flashes of then-risqu\\xc3\\xa9 skin...but this just isn\\'t enough to elevate the material above tedium.',\n",
      "       b'Who won the best actress Oscar for 1933? It should have been Laura Hope Crewes for her magnificent portrayal of the most monstrous mother ever. She truly is one of the great character actresses of all time. She played the frivolous Prudence Duvernoy in \"Camille\" (1936) and her best remembered role is Aunt Pittypat in \"Gone With the Wind\".<br /><br />Irene Dunne was the \"official\" star of the film but her scenes with Laura Hope Crewes were dynamite.<br /><br />David (Joel McCrea) is in Heidelberg when he is offered a job in New York. His wife, Christine (Irene Dunne) can continue her studies at the Rockafellar Centre. Their first stop in America is a visit to David\\'s mother, Mrs. Phelps. To say that Laura Hope Crewes dominates every scene is an under-statement. From her first entrance - in a frantic burst of effort to greet her \"big boy\" - all attention is on her. Even sitting around the tea table, when she forgets Hester\\'s existence, even forgetting how she takes her tea, you know something is not quite right.(Hester has been living there for a while.)<br /><br />Frances Dee is completely sweet and so right in her role as the adorable Hester. Her performance in this film, especially the scene where she has hysterics and the aftermath proves how under-rated as an actress she was.<br /><br />All the young cast are excellent. Eric Linden is superb as Robert, the younger son who comes to the realization that his mother is horrible but can do nothing about escaping from his mother\\'s spell. Joel McCrea, at one point says \"painting roses on bathtubs - that\\'s more your style\". There is a very subtle suggestion in the film of Robert\\'s sexuality.<br /><br />Irene Dunne is excellent in whatever film or genre she tried.',\n",
      "       b'Most of the other posts beat this movie up, and deservedly so. I\\'ve just got to chime in on the technical ineptness of the film makers. It would have been nice if the director had at least had lunch with someone who knew what a gun was, because he had no clue.<br /><br />SPOILERS AHEAD!!! YOU HAVE BEEN WARNED!!! <br /><br />Stupidity: <br /><br />Spec Ops team assembled from various military units whose members have never met each other before.<br /><br />Maybe two people in the unit had weapons that used the same magazines, parts, ammo, etc.<br /><br />The sniper school instructor uses a sub machine gun (pistol caliber) as opposed to a rifle which we would assume she would be more proficient with.<br /><br />One poor team member\\'s night vision optics weigh more than the rifle does. You can tell when he handles it, that it is SERIOUSLY top heavy.<br /><br />The team leader sends out a team member to \"challenge\" the Skeleton Man when they first confront him. Challenge a 200 year old reanimated Native American skeleton with a long spear and an attitude riding an undead war horse with a severe nosebleed? I think not, Bubba.<br /><br />Bullets do not spark when they hit trees, Mr. Director. (a couple of people have already mentioned this.) <br /><br />The teams \"air support\" consists of a ubiquitous \"black helicopter\", only this one has a couple of sidewinder missiles slung underneath. Someone forgot to tell the helo crew that the Skeleton Man doesn\\'t fly, and they are over the American heartland where there won\\'t be any enemy aircraft. They should have carried some air to ground missiles instead.<br /><br />The helo\\'s air to ground ordnance consists of a door gunner with a semi-auto AK-47(or 74?). Needless to say he only hits dirt. Should have brought a belt fed light machine gun.<br /><br />Door gunner later finds out that a grenade launcher is pretty useless as well.<br /><br />A wooden arrow from a freaking recurve bow does not down helicopters, Mr. Director.<br /><br />I pretty well could not take anymore after this point (about 30 minutes) and gave up. You seriously need a morphine drip to make it through this flick, it is just that painful.',\n",
      "       b\"I never want to see this movie again!<br /><br />Not only is it dreadfully bad, but I can't stand seeing my hero Stan Laurel looking so old and sick.<br /><br />Mostly I can't stand watching this terrible movie!<br /><br />Frankly, there is no reason to watch this awful film. The plot is just plain stupid. The actors that surround Stan Laurel and Oliver Hardy are really really bad and Laurel and Hardy have been funnier in any of their earlier films! <br /><br />I warn you don't watch it, the images will haunt you for a long while to come!\",\n",
      "       b\"This is an excellent movie and I would recommend it to everyone. Mr. Drury's acting is top notch as it always is and he blends well with the other actors in the movie. Can't give away any of the suspense or drama found in the movie. Hell to pay is a must see movie!!! The plot was very suspenseful. I would watch this movie over and over again because it has all the elements of a great western movie. It was very authentic in how they displayed the components dealing with this movie which includes the guns, horses, and clothing. The soundtrack is enjoyable and adds flavor to the movie. James Drury has the right touch when picking out a movie to be involved with. This is a another winner for the western genre. !!!!!\",\n",
      "       b'This self-important, confusing b+w \"film\" watches like an infant on a very bad acid trip. You\\'re dealing with something that reminds you of a piece of rotting lettuce that accidentally fell out of the back of a garbage truck: no one cares to touch it because it will probably be washed away on its own down the storm drain. There\\'s no room for plot when you\\'ve got \"visceral imagery\" and \"subtle\" allegory. To me, it seems like the director tries to make the next great art movie while begging for intellectual accolades. I didn\\'t bring my beret either. Watching this, I felt almost insulted since the \"film\" does such an effective job of distancing itself from you.',\n",
      "       b'What a shame that some good talent was wasted. This is a tedious and overly self-conscious movie, that could tell its story in half the time. Is that Derek Jacobi under that beard doing two roles? Gosh, who would have guessed.<br /><br />The emotional payoff a the end was weak and unsatisfying. Certainly not worth enduring the padded length of the movie for. I felt quite let down.<br /><br />The sound was dreadful. First, they used stock music. Second, it was so loud during some of the dialog, that the words were hard to make out. Only three sound crew, and a trainee? There were more people listed in the credits for either the accounting or the legal.<br /><br />Some of the camera work was quite good though, and the actors did a good job with a mediocre script.<br /><br />Not a good use of viewing time, at least for me.',\n",
      "       b'The story of a Volcano erupting downtown L.A. sounds like a nice plot for a disaster movie. This one though, is missed bigtime. The movie looks chaotic, has a storyline which is hard to follow or believe and the acting was very bad.<br /><br />Im in agreement with a lot of comments that Lee Jones is only good at bossing people around as a chief in some particular field. In this one, he is heading the emergency office. Being chief of such an office it naturally is a good idea to bring along your daughter to dangerous scenes. Clever thinking. Ann Heche touching walls and walking in tunnels that suppose to be 678 degrees fahrenheit. Yea right. Aside from the bad acting those factual errors make the film look almost as silly as Armageddon. The only good point of this movie is that there is no Ben Affleck to make matters even worse. Avoid this movie at all costs.',\n",
      "       b'I went to see this movie today, with hopes that it would involve an at least half-intelligent story. I was extremely disappointed, as it did not. The plot, and the decisions by the main character, were so far-fetched. I was hoping for a \"Dog Day Afternoon\"-type movie, but instead got something totally unacceptable. I actually found myself totally hoping for the \"hero\" to be knocked off, and I nearly walked out of the theater on several occasions when this should have happened but didn\\'t. Heist movies are notmeant to be feel-good flicks, and this one tried to be just that. Every couple of minutes during the second half of the movie, I found myself saying, \"no way\". Without giving the whole story away, it revolved around an armored car guard who was financially down and out, and whose house was going into foreclosure. He was invited in on a heist, and accepted, only to back down once the action began. Weak.',\n",
      "       b'I could not stand the woman who played the mother. I wanted her to shut up. She had a bizarre manner of speaking and the lines she was given to read didn\\'t make it any better. I had no idea why the men of the town were so taken with her to cause all these problems except that in a town populated by men she seemed to be the only woman over ten and under sixty. Even after a terrible tragedy her voice was devoid of human emotion, she seemed to have no ability to grasp the events of her life. She delivered her lines with the same emotion whether she was saying \"i love you\", \"i hate you\", \"the bank is foreclosing\", \"my dress is on fire\". Was this actually filmed in Ireland? The sun blazed throughout the movie and the characters seemed surprised by a rain shower during the harvest. I lived in Ireland during the summer of 2002, the wettest summer in a century. Most everything was still harvested. If the farmers in Ireland could only harvest during long dry stretches then the country would have starved hundreds of years ago. It seems as if there wasn\\'t a lot of money to make the movie. The black and white flashbacks looked as if they were filmed with the security cameras one can get at Sam\\'s Club.',\n",
      "       b'I just purchased An Zhan (Running out of time) on DVD and it was an excellent film I must say. Not really action-packed, in terms of gun play, but definitely exciting and witty. I do not think I have seen Andy Lau in better form. And the editing on this film was very well executed. Go watch this now if you are a fan of Lau or HK thiller/action film!',\n",
      "       b'\"Dungeon of Harrow\" had a lot of things that could\\'ve made this quite a good horror film. Creepy mansion, a torture chamber, a paranoid host, a henchman, a ghoul in the dungeon, etc. But sadly to say this wasn\\'t made very well.<br /><br />A writer and a skipper get shipwrecked on an island owned by a count in a castle, his slave, and a mute maid. The count becomes more and more suspicious that the two shipwrecked men are pirates (of all things) and gets more inclined to turn on them and subject them, and the mute maid who befriends them, to torture and imprisonment. Sound not-bad right? <br /><br />Well, not quite. I used to call this one of the worst movies I have ever seen, but now I hesitate. Because it had so much potential it can\\'t really be called \"one of the worst.\" However, seeing all this potential go to waste is a really big hit against this film. All in all, it\\'s not a very good movie.<br /><br />There is a very Gothic-suspense scene when our hero is chained in the dungeon and is confronted by the insane and leprous rotting bride, adorned in a tattered wedding dress. This was both creepy and disturbing the first time I saw the horror unfold in this scene. Man I wish this was a better movie! <br /><br />This movie had all the right stuff to make this a moody late-night chiller, but ultimately took all the wrong turns. I suggest someone remake this one.',\n",
      "       b\"I was mighty impressed with Nurse Betty all the way through. It has a great ensemble of characters, an origional plot, and an ending I shoulda seen coming but didn't and pulls at your heart strings.<br /><br />If theres any one thing about this movie that got me the most it was Morgan Freeman and Chris Rock's interaction. These two are great and it warms my heart to see Rock isn't going to do crappy Big Hollywood fare like Lethal Weapon 4 for the rest of his life. Freeman is as always the man, really there shouldnt be any need to critique his work anymore. Hell, Kiss the Girls was watchable with him in it.<br /><br />Renee Zellwegger does the best she can with her role, and Kinnear is good as her obession.<br /><br />Sweet movie with a nice touch of gratuitous violence in it to satisfy the bloodlust of the male. 9 outa 10<br /><br />\",\n",
      "       b'Sergei Eisenstein\\'s most famous movie has truly withstood the test of time. The story of a mutiny aboard a warship in 1905 does have the feeling of Soviet propaganda, but does a good job showing the conditions that led to the revolt. The scene on the Odessa steps should remain seared into anyone\\'s mind.<br /><br />Okay, so \"The Battleship Potemkin\" wasn\\'t actually the first movie to use montage, but they did a great job with it here. Certainly any film history class should show this movie. It\\'s a great historical drama (although I will admit that I don\\'t know how accurate it is). A 10/10.<br /><br />Oh, and we should have learned by now that \"Potemkin\" should be transliterated as \"Potyomkin\".',\n",
      "       b\"Well another shootem up. Typical run around film with guns, revenge, and violence. Not much of a story. In fact I forgot most of what this film is about. Don't rent this one. I think the exercise infomertial would be more entertaining during late night.\",\n",
      "       b'I was surprised, \"Once More, My Darling\", had not generated enough votes (at this writing) for a \"user rating\". It\\'s a \"screwy\" comedy I have enjoyed many times over the years. Robert Montgomery\\'s mission places him in some very improbable situations, and he\\'s just the man for the job. He maintains his trademark \"befuddled\" look throughout the film and hysterically, too. Ann Blyth plays his precocious/eccentric pursuer, who assumes a relationship that does not exist. Her character is kooky enough to warrant the unearned nickname \"Killer\", but remains cute and cuddly.<br /><br />Among the glut of \"B\" movies from the late 1940\\'s and 1950\\'s, \"Once More, My Darling\" is a standout. This one is worth looking for....',\n",
      "       b'Michael Caine usually appears in either very good (\"Blame It On Rio\", \"Sleuth\", \"Without A Clue\", \"Gambit\", \"Dirty Rotten Scoundrels\") or truly bad comedies (\"Noises Off\", \"Death Becomes Her\", \"Harry & Walter Go To NY\"). This falls into the latter category.<br /><br />TA is a comedy that succeeds in only two things: managing to waste a cast that includes Caine, Gambon and Richardson, all of which have comedic abilities, and succeeding in its mission not to make the viewer laugh. There isn\\'t a single truly funny moment here. The main reason is the lousy script; there was so much futile effort put into writing a pointlessly convoluted story which is simply too bothersome to follow (considering it\\'s only a comedy) that the writer(s) forgot to make the damn thing funny, which, as far as I can recall, is what the whole point of a comedy is supposed to be.<br /><br />I\\'ve never seen this Moron before. Some people even say \"if you\\'re a Moron fan you\\'ll love this\" bla bla bla. A Moron fan? Does this non-descript person really have fans? A comedy as badly written as this requires a mega-talent to eke out a laugh or two out of it, someone like Steve Coogan and not your average Moron.<br /><br />If you\\'re going to make a comedy about actors then at least make them out to be the utter morons that they usually are. The characters of Caine and Moron are insufficiently dumb.<br /><br />The single most annoying thing about this unfunny collection of scenes is the little girl. Only a truly horrible writer would think that to spice up a lousy script it\\'s wise to include a super-intelligent wise-ass kid. Smart-a** kids aren\\'t even funny to Bill Cosby fans any more. In \"Little Miss Sunshine\" we had a totally normal kid and she was very funny. This stupid ol\\' the-kid-is-smarter-than-the-adults shtick belongs to a century-old Marx brothers film.',\n",
      "       b\"The 1978 adaptation had all the ingredients of a potentially wonderful film. It is based on an absolutely charming book by Charles Kingsley. It has a truly talented cast from the likes of James Mason, Bernard Cribbons and David Tomblinson, not to mention the vocal talents of David Jason and Jon Pertwee. There is also Lionel Jeffries, the director of wonderful classics such as The Railway Children and the Amazing Mr Blunden, and while the film is good on the most part, it was also a little disappointing. I had no problem with the performances, particularly those of Mason and Tomblinson as Grimes and Sir John Harriet respectively, and Tommy Pender and Samantha Gates are believable as Tom and Ellie. The voice cast is also commendable, especially Jon Pertwee, voicing charming characters in their own right. I also liked the incidental music it is so haunting and beautiful, and the script was fairly faithful and in general well-written, particularly at the beginning. The characters, especially the Water Babies are very charming, and the villains are sinister and funny at the same time, I loved the part when Tom and his friends help the Water Babies escape, seeing the shark chasing the electric eel with an axe was very funny. However, I will say the film does look dated, especially the animation sequences, the live action parts weren't so bad, if you forgive the rather dark camera-work. The character animation was rather flat, and the backgrounds sometimes were a little dull, though there were some nice moments, like the scene with the Krakon and of course the first meeting with the Water Babies. I also had mixed feelings about the songs, the Water Babies's song was beautiful, but I found the first song forgettable, when Tom ends up underwater. Hi-Cockallorum is an example of a song, that is like marmite, you either love it or hate it. I personally don't know what to make of this song, it was fun to listen to at first, but once it's in your head, it is perhaps annoying. As much as I like Lionel Jeffries and his films, his direction just lacked the wonder and the magic it usually does. All in all, certainly not a terrible film, but could have been better artistically. 7/10 Bethany Cox.\",\n",
      "       b'This is one of the worst movies I have ever seen.<br /><br />What is the purpose of this movie? A bunch of Americans enters Nazi-occupied France and starts slaughtering Germans. You see them scalping their enemies and beating them to death with baseball bats. While making jokes, of course.<br /><br />Some will say that this movie is a parody of a certain genre. For a parody, it is neither witty nor funny. The contents is zero. It is exceptionally brutal and disgusting. Underneath lies a subtle political message, because it is again \"the good guys\" killing \"bad Nazis\". The whole plot is unthinkable if you turn it around. Could you imagine a storyline where Nazis (while making jokes) kill everybody in the Warsaw ghetto with flamethrowers? Probably not, but this movie is exactly about that, with the exception that is satisfies the weird moral expectations of a certain audience: slaughtering people is so cool when done by the right people.<br /><br />This movie only works because of the hidden Nazi-ideology underneath. It does not regard the enemy as people. And if the latter is supposed to be an element of the fun, I am happy to say that this kind of fun will always remain a mystery to me.<br /><br />Another mystery is how such violence can fascinate the American crowd while a bit of nudity will freak them out. But if a naked body is pornography, this movie with all its brutality is pure pornography at its very worst.<br /><br />Inglorious Basterds is a pointless, boring and tasteless waste of time and money.'],\n",
      "      dtype=object)>, <tf.Tensor: shape=(32,), dtype=int32, numpy=\n",
      "array([1, 1, 0, 0, 1, 0, 0, 1, 0, 1, 1, 1, 1, 0, 1, 0, 0, 1, 0, 0, 0, 0,\n",
      "       0, 1, 0, 1, 1, 0, 1, 0, 1, 0], dtype=int32)>)\n"
     ]
    }
   ],
   "source": [
    "for x in iter(raw_test_ds):\n",
    "    print(x)\n",
    "    break"
   ]
  },
  {
   "cell_type": "code",
   "execution_count": 8,
   "id": "265d8215-70a0-4722-bb8b-2008d47e58d1",
   "metadata": {},
   "outputs": [],
   "source": [
    "def custom_standardization(input_data):\n",
    "    l_case = tf.strings.lower(input_data)\n",
    "    stp_html = tf.strings.regex_replace(\n",
    "        l_case, '<br/>', ' '\n",
    "    )\n",
    "    return tf.strings.regex_replace(\n",
    "        stp_html,\n",
    "        f'[{re.escape(string.punctuation)}]',\n",
    "        ''\n",
    "    )\n",
    "\n",
    "def vectorize_text(text, label):\n",
    "    text = tf.expand_dims(text, -1)\n",
    "    return vectorize_layer(text), label"
   ]
  },
  {
   "cell_type": "code",
   "execution_count": 9,
   "id": "ab2f4da5-224d-41f3-a0c3-7789b11ec4f2",
   "metadata": {},
   "outputs": [],
   "source": [
    "max_features = 10000\n",
    "seq_len = 250\n",
    "\n",
    "vectorize_layer = layers.TextVectorization(\n",
    "    standardize=custom_standardization,\n",
    "    max_tokens=max_features,\n",
    "    output_mode='int',\n",
    "    output_sequence_length=seq_len \n",
    ")"
   ]
  },
  {
   "cell_type": "code",
   "execution_count": 10,
   "id": "89e2f739-5c85-4262-8083-0326d38d831f",
   "metadata": {},
   "outputs": [
    {
     "name": "stderr",
     "output_type": "stream",
     "text": [
      "2024-04-16 18:39:25.634845: W tensorflow/core/framework/local_rendezvous.cc:404] Local rendezvous is aborting with status: OUT_OF_RANGE: End of sequence\n"
     ]
    }
   ],
   "source": [
    "train_text = raw_train_ds.map(lambda x, y: x)\n",
    "vectorize_layer.adapt(train_text)\n"
   ]
  },
  {
   "cell_type": "code",
   "execution_count": 11,
   "id": "79616622-b540-4643-b694-bdbd8464ed8a",
   "metadata": {},
   "outputs": [],
   "source": [
    "AUTOTUNE = tf.data.AUTOTUNE\n",
    "\n",
    "train_ds = raw_train_ds.map(vectorize_text).cache().prefetch(buffer_size=AUTOTUNE)\n",
    "val_ds = raw_val_ds.map(vectorize_text).cache().prefetch(buffer_size=AUTOTUNE)\n",
    "test_ds = raw_test_ds.map(vectorize_text).cache().prefetch(buffer_size=AUTOTUNE)\n"
   ]
  },
  {
   "cell_type": "code",
   "execution_count": 12,
   "id": "98ab64c3-d897-41a8-aac4-1f6721f2ebb4",
   "metadata": {},
   "outputs": [
    {
     "data": {
      "text/html": [
       "<pre style=\"white-space:pre;overflow-x:auto;line-height:normal;font-family:Menlo,'DejaVu Sans Mono',consolas,'Courier New',monospace\"><span style=\"font-weight: bold\">Model: \"sequential\"</span>\n",
       "</pre>\n"
      ],
      "text/plain": [
       "\u001b[1mModel: \"sequential\"\u001b[0m\n"
      ]
     },
     "metadata": {},
     "output_type": "display_data"
    },
    {
     "data": {
      "text/html": [
       "<pre style=\"white-space:pre;overflow-x:auto;line-height:normal;font-family:Menlo,'DejaVu Sans Mono',consolas,'Courier New',monospace\">┏━━━━━━━━━━━━━━━━━━━━━━━━━━━━━━━━━┳━━━━━━━━━━━━━━━━━━━━━━━━┳━━━━━━━━━━━━━━━┓\n",
       "┃<span style=\"font-weight: bold\"> Layer (type)                    </span>┃<span style=\"font-weight: bold\"> Output Shape           </span>┃<span style=\"font-weight: bold\">       Param # </span>┃\n",
       "┡━━━━━━━━━━━━━━━━━━━━━━━━━━━━━━━━━╇━━━━━━━━━━━━━━━━━━━━━━━━╇━━━━━━━━━━━━━━━┩\n",
       "│ embedding (<span style=\"color: #0087ff; text-decoration-color: #0087ff\">Embedding</span>)           │ ?                      │   <span style=\"color: #00af00; text-decoration-color: #00af00\">0</span> (unbuilt) │\n",
       "├─────────────────────────────────┼────────────────────────┼───────────────┤\n",
       "│ conv1d (<span style=\"color: #0087ff; text-decoration-color: #0087ff\">Conv1D</span>)                 │ ?                      │   <span style=\"color: #00af00; text-decoration-color: #00af00\">0</span> (unbuilt) │\n",
       "├─────────────────────────────────┼────────────────────────┼───────────────┤\n",
       "│ global_average_pooling1d        │ ?                      │   <span style=\"color: #00af00; text-decoration-color: #00af00\">0</span> (unbuilt) │\n",
       "│ (<span style=\"color: #0087ff; text-decoration-color: #0087ff\">GlobalAveragePooling1D</span>)        │                        │               │\n",
       "├─────────────────────────────────┼────────────────────────┼───────────────┤\n",
       "│ dropout (<span style=\"color: #0087ff; text-decoration-color: #0087ff\">Dropout</span>)               │ ?                      │             <span style=\"color: #00af00; text-decoration-color: #00af00\">0</span> │\n",
       "├─────────────────────────────────┼────────────────────────┼───────────────┤\n",
       "│ dense (<span style=\"color: #0087ff; text-decoration-color: #0087ff\">Dense</span>)                   │ ?                      │   <span style=\"color: #00af00; text-decoration-color: #00af00\">0</span> (unbuilt) │\n",
       "├─────────────────────────────────┼────────────────────────┼───────────────┤\n",
       "│ dense_1 (<span style=\"color: #0087ff; text-decoration-color: #0087ff\">Dense</span>)                 │ ?                      │   <span style=\"color: #00af00; text-decoration-color: #00af00\">0</span> (unbuilt) │\n",
       "└─────────────────────────────────┴────────────────────────┴───────────────┘\n",
       "</pre>\n"
      ],
      "text/plain": [
       "┏━━━━━━━━━━━━━━━━━━━━━━━━━━━━━━━━━┳━━━━━━━━━━━━━━━━━━━━━━━━┳━━━━━━━━━━━━━━━┓\n",
       "┃\u001b[1m \u001b[0m\u001b[1mLayer (type)                   \u001b[0m\u001b[1m \u001b[0m┃\u001b[1m \u001b[0m\u001b[1mOutput Shape          \u001b[0m\u001b[1m \u001b[0m┃\u001b[1m \u001b[0m\u001b[1m      Param #\u001b[0m\u001b[1m \u001b[0m┃\n",
       "┡━━━━━━━━━━━━━━━━━━━━━━━━━━━━━━━━━╇━━━━━━━━━━━━━━━━━━━━━━━━╇━━━━━━━━━━━━━━━┩\n",
       "│ embedding (\u001b[38;5;33mEmbedding\u001b[0m)           │ ?                      │   \u001b[38;5;34m0\u001b[0m (unbuilt) │\n",
       "├─────────────────────────────────┼────────────────────────┼───────────────┤\n",
       "│ conv1d (\u001b[38;5;33mConv1D\u001b[0m)                 │ ?                      │   \u001b[38;5;34m0\u001b[0m (unbuilt) │\n",
       "├─────────────────────────────────┼────────────────────────┼───────────────┤\n",
       "│ global_average_pooling1d        │ ?                      │   \u001b[38;5;34m0\u001b[0m (unbuilt) │\n",
       "│ (\u001b[38;5;33mGlobalAveragePooling1D\u001b[0m)        │                        │               │\n",
       "├─────────────────────────────────┼────────────────────────┼───────────────┤\n",
       "│ dropout (\u001b[38;5;33mDropout\u001b[0m)               │ ?                      │             \u001b[38;5;34m0\u001b[0m │\n",
       "├─────────────────────────────────┼────────────────────────┼───────────────┤\n",
       "│ dense (\u001b[38;5;33mDense\u001b[0m)                   │ ?                      │   \u001b[38;5;34m0\u001b[0m (unbuilt) │\n",
       "├─────────────────────────────────┼────────────────────────┼───────────────┤\n",
       "│ dense_1 (\u001b[38;5;33mDense\u001b[0m)                 │ ?                      │   \u001b[38;5;34m0\u001b[0m (unbuilt) │\n",
       "└─────────────────────────────────┴────────────────────────┴───────────────┘\n"
      ]
     },
     "metadata": {},
     "output_type": "display_data"
    },
    {
     "data": {
      "text/html": [
       "<pre style=\"white-space:pre;overflow-x:auto;line-height:normal;font-family:Menlo,'DejaVu Sans Mono',consolas,'Courier New',monospace\"><span style=\"font-weight: bold\"> Total params: </span><span style=\"color: #00af00; text-decoration-color: #00af00\">0</span> (0.00 B)\n",
       "</pre>\n"
      ],
      "text/plain": [
       "\u001b[1m Total params: \u001b[0m\u001b[38;5;34m0\u001b[0m (0.00 B)\n"
      ]
     },
     "metadata": {},
     "output_type": "display_data"
    },
    {
     "data": {
      "text/html": [
       "<pre style=\"white-space:pre;overflow-x:auto;line-height:normal;font-family:Menlo,'DejaVu Sans Mono',consolas,'Courier New',monospace\"><span style=\"font-weight: bold\"> Trainable params: </span><span style=\"color: #00af00; text-decoration-color: #00af00\">0</span> (0.00 B)\n",
       "</pre>\n"
      ],
      "text/plain": [
       "\u001b[1m Trainable params: \u001b[0m\u001b[38;5;34m0\u001b[0m (0.00 B)\n"
      ]
     },
     "metadata": {},
     "output_type": "display_data"
    },
    {
     "data": {
      "text/html": [
       "<pre style=\"white-space:pre;overflow-x:auto;line-height:normal;font-family:Menlo,'DejaVu Sans Mono',consolas,'Courier New',monospace\"><span style=\"font-weight: bold\"> Non-trainable params: </span><span style=\"color: #00af00; text-decoration-color: #00af00\">0</span> (0.00 B)\n",
       "</pre>\n"
      ],
      "text/plain": [
       "\u001b[1m Non-trainable params: \u001b[0m\u001b[38;5;34m0\u001b[0m (0.00 B)\n"
      ]
     },
     "metadata": {},
     "output_type": "display_data"
    }
   ],
   "source": [
    "emb_dims = 128\n",
    "\n",
    "model = Sequential([\n",
    "    layers.Embedding(max_features+1, emb_dims),\n",
    "    layers.Conv1D(16, 5, activation=\"relu\"),\n",
    "    layers.GlobalAveragePooling1D(),\n",
    "    layers.Dropout(0.2),\n",
    "    layers.Dense(32, activation='relu'),\n",
    "    layers.Dense(1),\n",
    "])\n",
    "\n",
    "model.compile(\n",
    "    optimizer='adam',\n",
    "    loss=losses.BinaryCrossentropy(from_logits=True),\n",
    "    metrics=['accuracy']\n",
    ")\n",
    "\n",
    "model.summary()"
   ]
  },
  {
   "cell_type": "code",
   "execution_count": 13,
   "id": "ded90d8d-e62c-4308-af7e-5cb75b226d13",
   "metadata": {},
   "outputs": [
    {
     "name": "stdout",
     "output_type": "stream",
     "text": [
      "Epoch 1/10\n",
      "\u001b[1m625/625\u001b[0m \u001b[32m━━━━━━━━━━━━━━━━━━━━\u001b[0m\u001b[37m\u001b[0m \u001b[1m17s\u001b[0m 26ms/step - accuracy: 0.6505 - loss: 0.5562 - val_accuracy: 0.8612 - val_loss: 0.3060\n",
      "Epoch 2/10\n",
      "\u001b[1m625/625\u001b[0m \u001b[32m━━━━━━━━━━━━━━━━━━━━\u001b[0m\u001b[37m\u001b[0m \u001b[1m17s\u001b[0m 27ms/step - accuracy: 0.8857 - loss: 0.2763 - val_accuracy: 0.8700 - val_loss: 0.2870\n",
      "Epoch 3/10\n",
      "\u001b[1m625/625\u001b[0m \u001b[32m━━━━━━━━━━━━━━━━━━━━\u001b[0m\u001b[37m\u001b[0m \u001b[1m16s\u001b[0m 26ms/step - accuracy: 0.9180 - loss: 0.2116 - val_accuracy: 0.8708 - val_loss: 0.2980\n",
      "Epoch 4/10\n",
      "\u001b[1m625/625\u001b[0m \u001b[32m━━━━━━━━━━━━━━━━━━━━\u001b[0m\u001b[37m\u001b[0m \u001b[1m15s\u001b[0m 24ms/step - accuracy: 0.9396 - loss: 0.1630 - val_accuracy: 0.8768 - val_loss: 0.3330\n",
      "Epoch 5/10\n",
      "\u001b[1m625/625\u001b[0m \u001b[32m━━━━━━━━━━━━━━━━━━━━\u001b[0m\u001b[37m\u001b[0m \u001b[1m15s\u001b[0m 25ms/step - accuracy: 0.9521 - loss: 0.1295 - val_accuracy: 0.8674 - val_loss: 0.3557\n",
      "Epoch 6/10\n",
      "\u001b[1m625/625\u001b[0m \u001b[32m━━━━━━━━━━━━━━━━━━━━\u001b[0m\u001b[37m\u001b[0m \u001b[1m15s\u001b[0m 25ms/step - accuracy: 0.9648 - loss: 0.0981 - val_accuracy: 0.8618 - val_loss: 0.4117\n",
      "Epoch 7/10\n",
      "\u001b[1m625/625\u001b[0m \u001b[32m━━━━━━━━━━━━━━━━━━━━\u001b[0m\u001b[37m\u001b[0m \u001b[1m17s\u001b[0m 27ms/step - accuracy: 0.9696 - loss: 0.0828 - val_accuracy: 0.8540 - val_loss: 0.4597\n",
      "Epoch 8/10\n",
      "\u001b[1m625/625\u001b[0m \u001b[32m━━━━━━━━━━━━━━━━━━━━\u001b[0m\u001b[37m\u001b[0m \u001b[1m17s\u001b[0m 27ms/step - accuracy: 0.9764 - loss: 0.0646 - val_accuracy: 0.8428 - val_loss: 0.5368\n",
      "Epoch 9/10\n",
      "\u001b[1m625/625\u001b[0m \u001b[32m━━━━━━━━━━━━━━━━━━━━\u001b[0m\u001b[37m\u001b[0m \u001b[1m17s\u001b[0m 27ms/step - accuracy: 0.9819 - loss: 0.0536 - val_accuracy: 0.8636 - val_loss: 0.5246\n",
      "Epoch 10/10\n",
      "\u001b[1m625/625\u001b[0m \u001b[32m━━━━━━━━━━━━━━━━━━━━\u001b[0m\u001b[37m\u001b[0m \u001b[1m17s\u001b[0m 27ms/step - accuracy: 0.9846 - loss: 0.0444 - val_accuracy: 0.8582 - val_loss: 0.5707\n"
     ]
    },
    {
     "data": {
      "text/plain": [
       "<keras.src.callbacks.history.History at 0x7f7af6931c40>"
      ]
     },
     "execution_count": 13,
     "metadata": {},
     "output_type": "execute_result"
    }
   ],
   "source": [
    "model.fit(\n",
    "    train_ds, \n",
    "    validation_data=val_ds,\n",
    "    epochs=10,\n",
    "    callbacks=[\n",
    "        callbacks.TensorBoard(log_dir=\"logs/1dcnn\"),\n",
    "    ]\n",
    ")"
   ]
  },
  {
   "cell_type": "code",
   "execution_count": 14,
   "id": "2266b9d9-674e-486c-813d-7e8102462eba",
   "metadata": {},
   "outputs": [
    {
     "data": {
      "text/html": [
       "\n",
       "      <iframe id=\"tensorboard-frame-90a7abf437c38568\" width=\"100%\" height=\"800\" frameborder=\"0\">\n",
       "      </iframe>\n",
       "      <script>\n",
       "        (function() {\n",
       "          const frame = document.getElementById(\"tensorboard-frame-90a7abf437c38568\");\n",
       "          const url = new URL(\"/\", window.location);\n",
       "          const port = 6007;\n",
       "          if (port) {\n",
       "            url.port = port;\n",
       "          }\n",
       "          frame.src = url;\n",
       "        })();\n",
       "      </script>\n",
       "    "
      ],
      "text/plain": [
       "<IPython.core.display.HTML object>"
      ]
     },
     "metadata": {},
     "output_type": "display_data"
    }
   ],
   "source": [
    "%load_ext tensorboard\n",
    "%tensorboard --logdir logs"
   ]
  },
  {
   "cell_type": "code",
   "execution_count": 15,
   "id": "fbe73fde-9297-4b81-92c7-c384dc249fea",
   "metadata": {},
   "outputs": [
    {
     "name": "stdout",
     "output_type": "stream",
     "text": [
      "\u001b[1m782/782\u001b[0m \u001b[32m━━━━━━━━━━━━━━━━━━━━\u001b[0m\u001b[37m\u001b[0m \u001b[1m3s\u001b[0m 4ms/step - accuracy: 0.8314 - loss: 0.6873\n"
     ]
    },
    {
     "data": {
      "text/plain": [
       "[0.6865408420562744, 0.8310400247573853]"
      ]
     },
     "execution_count": 15,
     "metadata": {},
     "output_type": "execute_result"
    }
   ],
   "source": [
    "model.evaluate(test_ds)"
   ]
  },
  {
   "cell_type": "code",
   "execution_count": 16,
   "id": "7dc3f2f7-adb7-4d8d-8d90-63a510f999f0",
   "metadata": {},
   "outputs": [
    {
     "name": "stdout",
     "output_type": "stream",
     "text": [
      "\u001b[1m782/782\u001b[0m \u001b[32m━━━━━━━━━━━━━━━━━━━━\u001b[0m\u001b[37m\u001b[0m \u001b[1m3s\u001b[0m 4ms/step - accuracy: 0.8355 - loss: 0.6830\n"
     ]
    },
    {
     "data": {
      "text/plain": [
       "[0.6869987845420837, 0.8350399732589722]"
      ]
     },
     "execution_count": 16,
     "metadata": {},
     "output_type": "execute_result"
    }
   ],
   "source": [
    "export_model = tf.keras.Sequential([\n",
    "    vectorize_layer,\n",
    "    model,\n",
    "    layers.Activation('sigmoid')\n",
    "])\n",
    "\n",
    "export_model.compile(\n",
    "    loss=losses.BinaryCrossentropy(from_logits=False),\n",
    "    optimizer=\"adam\",\n",
    "    metrics=[\"accuracy\"]\n",
    ")\n",
    "\n",
    "\n",
    "export_model.evaluate(raw_test_ds)"
   ]
  },
  {
   "cell_type": "code",
   "execution_count": 28,
   "id": "7c1a4708-f4af-47c0-b1ed-be070c37a26f",
   "metadata": {},
   "outputs": [
    {
     "name": "stdout",
     "output_type": "stream",
     "text": [
      "## Inference\n",
      "The movie is very boring      :0.059\n",
      "A Good Movie                  :0.634\n",
      "very bad worst movie          :0.018\n",
      "Worst movie, boring           :0.116\n"
     ]
    }
   ],
   "source": [
    "reviews = tf.constant(['The movie is very boring', 'A Good Movie' , 'very bad worst movie',  'Worst movie, boring' ])\n",
    "print(\"## Inference\")\n",
    "res = export_model(reviews)\n",
    "for review, val in zip(reviews, res):\n",
    "    review = review.numpy().decode()\n",
    "    val = val.numpy().squeeze()\n",
    "    print(f\"{review:<30}:{val:>.3f}\")"
   ]
  },
  {
   "cell_type": "code",
   "execution_count": null,
   "id": "a914493e-41b6-45d5-a077-fd4a04b45f36",
   "metadata": {},
   "outputs": [],
   "source": [
    "export_model.save('sentence_classificatoin_model.keras')"
   ]
  }
 ],
 "metadata": {
  "kernelspec": {
   "display_name": "Python 3 (ipykernel)",
   "language": "python",
   "name": "python3"
  },
  "language_info": {
   "codemirror_mode": {
    "name": "ipython",
    "version": 3
   },
   "file_extension": ".py",
   "mimetype": "text/x-python",
   "name": "python",
   "nbconvert_exporter": "python",
   "pygments_lexer": "ipython3",
   "version": "3.9.19"
  }
 },
 "nbformat": 4,
 "nbformat_minor": 5
}
