{
 "cells": [
  {
   "cell_type": "markdown",
   "id": "24e4a56a-862a-49e6-becb-a62cdba861c4",
   "metadata": {},
   "source": [
    "# Sentence Classifier using 1D CNN"
   ]
  },
  {
   "cell_type": "code",
   "execution_count": 3,
   "id": "3cddb231-f361-47f6-8024-d124a71ada5e",
   "metadata": {},
   "outputs": [],
   "source": [
    "import matplotlib.pyplot as plt\n",
    "import os\n",
    "import re\n",
    "import string\n",
    "import shutil\n",
    "import tensorflow as tf\n",
    "from tensorflow.keras import layers, losses, callbacks, Sequential"
   ]
  },
  {
   "cell_type": "code",
   "execution_count": 4,
   "id": "645f3701-c4d5-4aca-8875-b7751e2c842b",
   "metadata": {},
   "outputs": [],
   "source": [
    "url = \"https://ai.stanford.edu/~amaas/data/sentiment/aclImdb_v1.tar.gz\"\n",
    "dataset = tf.keras.utils.get_file(\n",
    "    \"aclImdb_v1\" , url,\n",
    "    untar=True, cache_dir='',\n",
    "    cache_subdir=''\n",
    ")\n",
    "dataset_dir = os.path.join(os.path.dirname(dataset), 'aclImdb')"
   ]
  },
  {
   "cell_type": "code",
   "execution_count": 5,
   "id": "2aa6f5b6-168f-4efe-830c-7a3804952805",
   "metadata": {},
   "outputs": [
    {
     "data": {
      "text/plain": [
       "['test', 'imdbEr.txt', 'imdb.vocab', 'README', 'train']"
      ]
     },
     "execution_count": 5,
     "metadata": {},
     "output_type": "execute_result"
    }
   ],
   "source": [
    "os.listdir(dataset_dir)"
   ]
  },
  {
   "cell_type": "code",
   "execution_count": 6,
   "id": "6fa571d8-93f2-42a4-978f-9ab60ff7e8f7",
   "metadata": {},
   "outputs": [
    {
     "data": {
      "text/plain": [
       "['neg',\n",
       " 'pos',\n",
       " 'unsupBow.feat',\n",
       " 'labeledBow.feat',\n",
       " 'urls_neg.txt',\n",
       " 'urls_pos.txt',\n",
       " 'urls_unsup.txt',\n",
       " 'unsup']"
      ]
     },
     "execution_count": 6,
     "metadata": {},
     "output_type": "execute_result"
    }
   ],
   "source": [
    "train_dir = os.path.join(dataset_dir, 'train')\n",
    "os.listdir(train_dir)"
   ]
  },
  {
   "cell_type": "code",
   "execution_count": 7,
   "id": "897058a6-0966-4382-94c6-65080a9c785a",
   "metadata": {},
   "outputs": [],
   "source": [
    "shutil.rmtree(os.path.join(train_dir, \"unsup\"))"
   ]
  },
  {
   "cell_type": "code",
   "execution_count": 8,
   "id": "9f3890df-5370-44b8-8703-d7c59603c1df",
   "metadata": {},
   "outputs": [
    {
     "name": "stdout",
     "output_type": "stream",
     "text": [
      "Found 25000 files belonging to 2 classes.\n",
      "Using 20000 files for training.\n"
     ]
    },
    {
     "name": "stderr",
     "output_type": "stream",
     "text": [
      "2024-04-03 21:03:26.939663: I external/local_xla/xla/stream_executor/cuda/cuda_executor.cc:998] successful NUMA node read from SysFS had negative value (-1), but there must be at least one NUMA node, so returning NUMA node zero. See more at https://github.com/torvalds/linux/blob/v6.0/Documentation/ABI/testing/sysfs-bus-pci#L344-L355\n",
      "2024-04-03 21:03:26.940103: W tensorflow/core/common_runtime/gpu/gpu_device.cc:2251] Cannot dlopen some GPU libraries. Please make sure the missing libraries mentioned above are installed properly if you would like to use GPU. Follow the guide at https://www.tensorflow.org/install/gpu for how to download and setup the required libraries for your platform.\n",
      "Skipping registering GPU devices...\n"
     ]
    },
    {
     "name": "stdout",
     "output_type": "stream",
     "text": [
      "Found 25000 files belonging to 2 classes.\n",
      "Using 5000 files for validation.\n",
      "Found 25000 files belonging to 2 classes.\n"
     ]
    }
   ],
   "source": [
    "batch_size = 32\n",
    "seed = 42\n",
    "\n",
    "raw_train_ds = tf.keras.utils.text_dataset_from_directory(\n",
    "    train_dir,\n",
    "    batch_size=batch_size,\n",
    "    validation_split=0.2,\n",
    "    subset='training',\n",
    "    seed=seed\n",
    ")\n",
    "raw_val_ds = tf.keras.utils.text_dataset_from_directory(\n",
    "    train_dir,\n",
    "    batch_size=batch_size,\n",
    "    validation_split=0.2,\n",
    "    subset='validation',\n",
    "    seed=seed\n",
    ")\n",
    "raw_test_ds = tf.keras.utils.text_dataset_from_directory(\n",
    "    os.path.join(dataset_dir, 'test'),\n",
    "    batch_size=batch_size,\n",
    ")\n"
   ]
  },
  {
   "cell_type": "code",
   "execution_count": 9,
   "id": "3b7324f8-c81d-42d2-975f-553528d8c7e5",
   "metadata": {},
   "outputs": [
    {
     "name": "stdout",
     "output_type": "stream",
     "text": [
      "(<tf.Tensor: shape=(32,), dtype=string, numpy=\n",
      "array([b'A town in Japan is being taken over by a horribly brutal abstract shape: the spiral. It\\'s becoming a theme in everything from animals to clouds to people and twisting them, mentally and literally. This film shows it happening to several groups of people. Some demonic possession is implied, but nothing is entirely sure except that the best bet is to get the heck out of dodge. The film progresses really well from normal life to abnormal phenomena (giant snails and crazy people) to the truly supernatural (walking dead).<br /><br />As a jaded American horror movie fan, this was just what I needed. Maybe it was just the novelty of a different culture\\'s film, but it seemed to have a very original progression, set of characters, and the premise was definitely new. The Japanese may think \"horror shapes\" (uzumaki means \"spiral,\" I\\'m told) are old by now, but it was nice for me because I\\'m used to monster/alien/virus/disaster/undead films. In an American movie, you know who\\'s going to die (the annoying/nasty/lascivious/racist characters) and who will live (the children/heroine/dogs/cats/nice guy). That\\'s not true in Japanese horror. It was not predictable how they would fight the evil or how it would end up. Also, it had this really new (but probably typically Japanese) color leached Pacific Northwest style cloudy day thing going, which was a fresh visual effect for me. The horrific moments were seriously creepy, relying on a little gore but mainly just impossibly overdone facial expressions (think The Ring) and body manipulations. This should be one of the greats, up there with once-original ideas like the first Nightmare on Elm Street or Night of the Living Dead.',\n",
      "       b'It\\'s hard for me to explain this show to my grown friends. I have a bunch of Shasta Daisy\\'s in the back yard which I lovingly call my \"Chuckle Patch.\" My friends laugh at me and look at me like I have 2 heads. It would be great to see this series on DVD for us folks who remember it fondly with our other childhood memories, or to show our friends that there really WAS a chuckle patch! Where kids TV today is compiled of violent cartoons, characters who do magic, or a talking sponge who lives in a pineapple under the sea, The Magic Garden was real in the respect that it taught us good values.<br /><br />I will hold fond memories of Carole and Paula, and the Chuckle Patch.',\n",
      "       b\"I'm a historian. This movie is so wrong it hurts. Tried to watch with an open mind, but if you're going to delve into a movie or anything for that matter of this nature at least do some homework regarding history, locations, church protocol, et cetera. Stop playing to the dumb audience, please. There are those of us out there that actually put on our shoes and venture out to the theatre when something of this nature, worthy of a theatrical release comes to town. A little research, all I'm asking. But then again, the book it's based on is somewhat of a joke in itself. So basically, they took a novel with many errors and decided to make it into a screenplay, pour millions and millions and millions of dollars into it and make an incredibly promoted world distributed theatrical release and at no time have anyone take the time to do a little research on the lot of it. I know several of my colleagues who would have done it for just the credit alone or at least given it to a body of students as an assignment for several weeks to research various aspects\\xc2\\x85 or just pay someone knowledgeable a couple of bucks just to run through it because trust me, there are plenty of starving historians out there who would have jumped on the opportunity if it had presented itself.\",\n",
      "       b'This is a very dull film with poorly developed characters, subplots that go nowhere, and barely tolerable acting. It comes across as a poorly conceived rip-off of \"2001.\"<br /><br />The only thing making it worthwhile are the sets and costumes and visual effects. But even that wasn\\'t enough to keep me from nodding off. I would like to get the soundtrack, especially the music during the space flight sequence, for nights when I have trouble falling asleep.',\n",
      "       b'An eye opening documentary about the 1993 siege of a religious sect compound near Waco, Texas. Seventy-six people, including sect leader, David Koresh, perished in a flaming inferno that destroyed the compound. There is still heated debate over how the fire started. Homicide or suicide? Can you still trust government ethics?<br /><br />',\n",
      "       b'OK, so it\\'s a silly movie, but I think they knew that when they made it. And there are some neat little twists on the otherwise tired, overdone \"Godzilla\"-type genre. Borrowed a tape just because I knew someone in it, but I did loan it out to a couple pals, who also kinda liked it.',\n",
      "       b'The story isn\\'t very strong. Don\\'t expect a \"Bourne identity\" kind of movie. It started of strong, Tara speaking Russian and it even sounded credible. (Not that I\\'m the Russian language expert.) Moscow had that darkish depressing look what gave this movie potential, I still believed in it. To bad it only took about half an hour to see they really missed the spot with this one. Acting was poor, maybe because the story itself was not very strong. There is this part in the movie where Gordon Patrick (Nick Moran) is having a conversation on the phone with the C.I.A., like you\\'re listening to a Chinese synchronizer. W.T.F!? Too bad, the writer didn\\'t even take little effort to give the main characters depth. Also, bit of a cheap and easy ending.<br /><br />Plus point is almost every scene where Tara Reid is in. Not that she\\'s acting that well, in fact, she doesn\\'t. But she really looks great in this movie. Overall, it was a bit of a disappointment. Rental material\\xc2\\x85.maybe.',\n",
      "       b\"In the aftermath of September 11th in New York, this drama about American firefighters was conceived as a salute and tribute to their professionalism. The story is told with a series of flashbacks, where after firefighter Jack Morrison (Joaquin Phoenix) has crashed through the floor of a burning building, and only communicating with Captain Mike Kennedy (John Travolta) via the radio. The flashbacks basically show how Jack grows from being a recruit, seeing Kennedy as a father figure, to being a firehouse legend. Of course, in the present day, Jack's fellow firefighters are trying to reach him, but they are too late, and in the end, he lets them leave him, and it forwards to his funeral, where he is praised as one of the best firefighters they have known. Also starring Jacinda Barrett as Linda Morrison, Terminator 2's Robert Patrick as Lenny Richter, Morris Chestnut as Tommy Drake, Billy Burke as Dennis Gauquin, Balthazar Getty as Ray Gauquin and Tim Guinee as Tony Corrigan. The blazes of the film are ultimately all I could pay attention to and enjoy seeing the characters tackle them, the rest is a bit too chatty for my liking. Adequate!\",\n",
      "       b\"Five teens set out to do some camping in the Oregon wilderness, and despite being warned by the park ranger, they soon realize that something is lurking around in the backwoods waiting to strike.<br /><br />When it comes to old horror movies, the only one that keeps popping up in every conversation is Friday THE 13th, so I took it upon myself to find those good old horror movies that fell short for simply being compared to Friday THE 13th, JUST BEFORE DAWN just so happened to be among the ones I found, and was really very impressive, it wasn't as bland as some of the stuff you find today, it was very sharp in terms of character development as it had quite a few likable ones, and it has this very casual pace, its not in a hurry to get to the hack and slash bits, it takes its time to set the proper mood and tone and is very atmospheric and builds some killer suspense by letting you always have that sense of dread like, somethings out there but you don't know where it is or when it will strike.<br /><br />Where I live its definitely an overlooked gem simply because people never heard of it or won't give it a chance, but I'll state that it is not a Friday THE 13th rip off, the two concepts don't even go near each other, but in my mind, it is overall one of the more impressive slashers I've seen in a while.\",\n",
      "       b\"Although i watched this film by myself(thankfully), i still felt embarrassed while watching it. I was tricked into renting it by the reviews on the front cover, and the bloody/gritty camera stills on the back-which led me to believe it was some sort of documentary. These actors are laughable throughout the entire film, not convincing at all. The story involves an Italian Australian(?) gang, just fighting other gangs, and then running,fighting,repeat. Supposedly they train extremely hard, which makes them way better than other gangs. For some reason I don't believe that they could actually beat up some of these other guys that are twice their size. I could be wrong... no I'm not wrong, this movie is not enjoyable on any level.The jail montage looked like it was a summer camp, just instead of kids, it was a sausage fest of horrible actors, just hanging out and laughing and trying to look hard. This movie is not worth your time, save your money, or throw it in the garbage, just don't waste it on this movie.\",\n",
      "       b'Usually I have a lot of luck with these small scale movies. I looked at the cast. Leary, Lovitz, Delpy, Wuhrer, Estevez. How bad could it be? Unfortunately the answer was...pretty bad. I have a hard time remembering a movie that had such poor execution of a plot that had potential.',\n",
      "       b'I won\\'t go into detail about why this movie deserves an awful rating, plenty of other people have already done that. Suffice it to say that out of the over 400 movies that I\\'ve owned on DVD, this is the ONLY one that I got rid of- it was so worthless that I couldn\\'t see ever wanting to watch ANY of it again.<br /><br />However, I do have a comment on the ridiculously high average rating of 2.9 (as of 3-15-06). While skimming through the 4 pages of reviews I saw no rating higher than 3 stars. Looking at the voting history, 78% of users rated the movie as 4 stars or less. It looks to me like a few people are stuffing the ballot box to keep this movie off of the IMDb \"bottom 100\" list. It would be interesting to see how many of the 30 users who rated this movie as 10 stars (none of who wrote a review of the movie) are actual active users.<br /><br />Don\\'t be fooled, this movie isn\\'t worth your time.',\n",
      "       b'Two teenagers in the north-east of England are desperate to raise money and buy season tickets for their favourite football team. They go through a series of \"comic misadventures\" but come up smiling in the end.<br /><br />The trailer for this film sells it as a comedy and includes most of its light-hearted moments. However, the tone is increasingly grim and the end result is a depressing story peopled with familiar stereotypes. The two \"heroes\" have no problems with lying, cheating and stealing. Their adversaries are a callous teacher, a pantomime villain of a father, a psychotic skinhead and a well-meaning but incompetent social worker. The other female characters are a drug addicted teenager, a pregnant schoolgirl and a battered wife who seems to be smoking herself to death. There are no likable characters, and the audience can only feel either pity or contempt. Local actors Tim Healy and Kevin Whateley both play against type as baddies, but the writing and direction of their characters are so one-dimensional that they have no more than novelty value.<br /><br />Chris Beattie and Greg McLane give good performances in the two young leads. However, they are miscast, because they have the wrong accent. To anyone from the north east, it is obvious that they both come from the Sunderland/Durham area, and yet we are expected to believe they are natives of Newcastle. As a Geordie myself I can assure you that the accents are by no means the same. Take the phrase \"Let the poor lad speak\". We say \"Let the pooa lad speek\" while they say \"piwer lad spiyk\", with two distinctly different vowel sounds. This discrepancy creates a ridiculous double irony in a scene in Sunderland football ground, where the two lads are trying to disguise the Newcastle accents they don\\'t have, and *pretend* that they come from Sunderland - which they clearly do. In a gentle comedy this kind of criticism might be seen as nit-picking. However, the film\\'s bleak tone makes it clear that writer/director Mark Herman is aiming for gritty realism: that means \"near enough\" is actually way off.<br /><br />I had hoped for humour and optimism from this film, and instead found tired old clich\\xc3\\xa9s. Tyneside is not a grey wasteland populated solely by losers, and in telling us it is, Herman should have known he would cause offence. It\\'s interesting to compare the film with the same director\\'s \"Little Voice\" - also largely downbeat and populated by one-dimensional characters, \"Little Voice\" at least has a talented heroine and doesn\\'t wallow in misery to the same extent. I\\'ve heard \"Belter\" ranked alongside this year\\'s \"Billy Elliot\", but that film is a vastly more enjoyable and life-affirming experience.<br /><br />Incidentally, I may be just too old, but having lived on Tyneside for 42 years, I have never heard anyone outside this film use the expression \"Purely Belter\".',\n",
      "       b'As you can see I\\'ve submitted 2 comments about this show since 1991....and no, ITV have still not made it available for general release.<br /><br />HOWEVER, I recently contacted ITV to see if there was any way of getting hold of a copy, and this was their reply.......<br /><br />\"Unfortunately there are no plans for this programme to be released on DVD/video. You can however, purchase copies from our Viewers Requests dept. Their email address is: viewers.requests@itv.com \".<br /><br />Hope you all now get the chance to enjoy this classic short comedy again.<br /><br />',\n",
      "       b'I have to admit I had never heard of this movie. I caught it last night on TMC. I thought it was hysterical. I laughed so hard and loved the ending. Image what a Marx brothers movie would like if they collaborated with Salvadore Dali and Malcolmn X and then all dropped LSD.<br /><br />Funny and edgy are two overused words these days, this movie sure has that plus about 200 IQ points of most comedies today and surrealistic to boot. I had to be up at 6:00 am and watched it until 2:30. I over slept and missed my obligations. Still worth it. I would not recommend renting it, I would recommend owning it. It was that good.<br /><br />The only warning I have is that so of the references are dated and might not be gotten by younger people. Bare with it and use your head.<br /><br />I would have to put it in my top comedies of all time.',\n",
      "       b'Enjoy the opening credits. They\\'re the best thing about this second-rate but inoffensive time-killer which features passable performances from the likes of Eric Roberts and Martin Kove. The main part, however, goes to newcomer Tommy Lee Thomas who looks a bit diminutive for this kind of action but who, nevertheless, occasionally manages to project a banty-rooster kind of belligerence. The first time we see him he\\'s bare-chested, sweaty, and engaged in that favorite \"beefcake\" activity -- chopping wood. After this he has seven more scenes without his shirt including one in which he\\'s hanged by his wrists and zapped with electricity a la Mel Gibson in \"Lethal Weapon.\" He could use a better script, however, since the manner in which he exposes the truth about corruption and violence inside the prison is never very convincing. There\\'s also talk about millions of dollars which apparently is tied in with this investigation but which is never explained. There are a few pluses, though. Sending \"John Woodrow\" undercover as \"John Wilson\" is an amusing play on a presidential name, and co-star Jody (Ross) Nolan shows promise as an inmate who, early in the proceedings, is shown hanged by his wrists and getting punched by a burly guard. One final note: the movie\\'s low budget is painfully responsible for the lack of \"extras.\" Despite the impressive size of the prison, it only seems to hold about 12 inmates! (Note: the cast credits at the end aren\\'t too helpful. For the record, the burly, bald-headed guard who uses Jody Nolan as a punching bag is played by Bill Fishback, and the young, fair-haired guard who administers electric shocks to Tommy Lee Thomas is played by Marc Chenail.)',\n",
      "       b\"This film was reeeeeeallyyyy bad! Was it meant to be a comedy as I couldn't help laughing the whole way through it? what a waste of two hours! Donald Sutherland was wooden not that he was alone, everyone else was just as bad...and how miscast was linda hamilton???\",\n",
      "       b\"1st watched 10/10/2009 - 8 out of 10 (Dir - Billy Wilder): Spectacular rendering of Lindbergh's famous flight by James Stewart as Lindbergh and Director Billy Wilder. There isn't really a whole lot of background built into this story but that's OK because Wilder makes the event really remarkable as it comes directly from Lindbergh's perspective since he used his book as the basis of the movie. This early movie about flying has to be one of the best about the act itself as well. Stewart talking and thinking to himself during the flight gives you so much insight into what Lindbergh went thru in this 33 hour solo flight across the Atlantic. And he did the whole flight without sleeping the night before -- which is amazing!! There is a little backstory about how he purchased the plane and got the financing, and some flashbacks about his life during the flight but the movie is mostly about the flight. The story is also beautifully made and photographed and is a joy to watch despite it's age. I appreciate the fact that they didn't throw in a lot of fluff and just let the story tell itself. Well done throughout. This is a classic movie that should be viewed by all.\",\n",
      "       b'This film is remarkable in how unremarkable it is. This is the true story of one woman and one man and their quest for happiness amid the dull, rote life of a housewife and \"man of the house\". It could be any couple, any family, in any town... but that\\'s what makes the story so moving. It touches each of us in some way and reminds us of someone we know and love, or of ourselves. I laughed, I cried, I couldn\\'t stop thinking about it... and what more could you ask for from a film, really? Especially a documentary. This is an excellent film and one that I highly recommended to anyone who enjoys documentaries, stories about families like yours, stories about love, life, parenting, loss, expectations, soul searching, yearning, wandering through life and finding your way, or not.',\n",
      "       b\"Darr is an brilliant movie..It is 1 of my favourite films..SRK has done a mind blowing job in the movie....<br /><br />this role couldn't have been played by anyone else because this type of role only suits SRK...<br /><br />SRK plays a mental villain in the film..<br /><br />SRK's performance in this movie is the best performance ever in boll wood...<br /><br />SRK deserves an honour and an encouraging appeal for his fantastic performance...<br /><br />Juhi also delivers an excellent performance..<br /><br />Sunny Deol looked strong and physically fit in the film..\",\n",
      "       b\"William Wellmann, who directed one of the most exciting silent films ever made, 'Wings' (1927), here returns to the skies with another rip-roaring story of dare-devil fliers. Wellmann had been an air ace in World War One, and no one knew biplanes like he did. Here they are, stunt-flying, crashing, exploding in the air, and everything you can think of, plus a fascinating glimpse of commercial air operations in 1932 as well. And there is a good strong story, excellently played by the sombre Richard Barthelmess (the silent star who made several films with D. W. Griffith), Sally Eilers and Tom Brown. Eilers is a real sizzler. Such a relief to see a real woman with real fire and character instead of one of those photofit botoxed dummies who play in movies in today's Hollywood and all look identical. The story is a sad one, played with genuine pathos, and well directed. Towards the end of the film there are some extraordinarily thrilling scenes of danger and rescue, and what must be the most ingenious blind landing in thick fog ever thought of. I dare not give away the ingenious aspects of that particular episode. The character played by Barthelmess is very like Wellmann himself, a truly wild hell-raiser in the air. Anyone who likes early aviation would love this film, and it's very rewarding for anyone who likes good solid entertainment, love, tears, and non-stop action all combined in a kind of delectable Wellmann omelette.\",\n",
      "       b'i believe that this movie was a terrible waste of my time, and i would know after watching it 5 times in class. this movie does not show what absolutely perfectly happened during these times. no one can truly say that these things happened to the letter. if anything the only good part would be the actors, even tho that they were really really crap.they were reading the script without expression. quite boring. i would rather watch play school. so i would definitely like to never ever see this movie again in my whole life. it is a complete waste of time unless you want your time to be wasted and if you would like to see an unrealistic view of what happened back in 1981.',\n",
      "       b'I will give it this: it tried. It did try to make it good and even got Luke Wilson involved. Luke Wilson is good, but he can only do so much. He can\\'t make up for the fact that the story was very flawed and the characters were underdeveloped.<br /><br />The running \"gag\" with the bully was asinine. He was never funny and I got tired of the gag really fast. And the barefooted kid bit was kind of weak too. He hitchhiked to Florida? Yeah OK.<br /><br />The movie felt like an average kiddie film at times with this underlining mantra: adults stupid, kids smart. And that bit gets tiresome.<br /><br />But the only moments that were funny was the police cart Wilson drove around when he lost his squad car. I loved that little cart, especially when Wilson turned on the sirens. But, other than that, nothing else was worth my time. \"D-\"',\n",
      "       b'Perhaps the deepest cartoon made in the USA, \"Duckman\" runs short at 70 episodes in four seasons.<br /><br />Unlike the often innocuous criticism found in \"The Simpsons\" (a pretty good show in its own right), and the rude-for-rudeness-sake humour in \"South Park,\" every bit of this series follows a plan. The criticism of US society, from its mercantilism to its selfishness, carries much more bite than it does in any other animated series.<br /><br />The cultural references in \"Duckman\" also tend to be obscure sometimes (anyone browsing the fan sites will realize most have not even been caught). In that, it is different from \"The Simpsons,\" which usually uses pop culture instead of the high-brow stuff often hidden in \"Duckman.\" As other people writing about it notice, there is a growth in the characters (Bernice, Duckman and Cornfed). Also, by making the main character not just an offensive neurotic but in fact someone who is living a personal tragedy (as is made clear in episodes like \"The Once and Future Duck\" (\\'You\\'ll love her until the end of your days...\\') and in \"Bev Takes a Holiday\" (when he takes a chance to tell Beverly all those things he couldn\\'t tell Beatrice), the series is anchored in a deep sense of reality.<br /><br />One can\\'t avoid feeling sorry for him and his lucid madness.<br /><br />All in all, in my opinion, the best cartoon ever made in the USA and one of the best series ever. I doubt it will ever be on DVD though. Far too many things the Duck said make much more sense today.',\n",
      "       b'David Lynch\\'s ninth full length feature film, Mulholland Drive is a deeply touching story about betrayal and jealousy. If anything, it brutally contrasts our ambitions and hopes to the often bitter truth. Every frame of this movie has importance and links to other parts and to themselves at the same time. Nothing is what it first appears to be and you\\'re left with a real puzzle as you end up trying to put the pieces together. It is a movie that does not compromise, nor does it fail to fully handle the challenging form and camera language, as might have been the case earlier with Lost Highway.<br /><br />Although one clearly recognizes classic lynchian motifs and devices, the movie remains highly original, even in the light of it being a Lynch movie. Lost Highway marked a new way of telling a story; bred an unconventional mean of setting emotions on to the screen. With Mulholland Drive, Lynch not only managed to control this technique, but takes it to new levels in making it much more complex and multi dimensional. In doing this, he creates a framework of different layers in time and of the human mind. In a press conference on the Cannes film festival 2001, David Lynch said that striving for perfection at best could give a result where the whole is greater than the sum of the parts. Talking about synergies like this becomes highly relevant to Mulholland Dr. where the different sequences and many details contribute to the total; dreamscapes and parallels intertwine to create the story. In some art, the beauty of it lies in its simpleness. This is not the case with Mulholland Drive, and has never been with Lynch. It is the complexity that colors and builds the worlds Lynch creates, the same complexity that characterizes the real world.<br /><br />It never gets forced like, in my opinion, for example Memento does, using an original way of communicating with the viewers. Further comparing Mulholland Drive to other movies, I think it proves David Lynch as a master of what he does and bridges art and film making in a way that no one has ever done. Compared to for example Alejandro Jodorowsky or contemporary Matthew Barney, I do believe that Lynch more clearly manages not letting the artist dominate the film maker or, more likely, David Lynch better understands and executes film making as an art form.<br /><br />Understanding the plot is no small feat, but Lynch\\'s way of working with sound, perspective, chronology and form paints a work of art so dark and frightening that it sometimes feels more realistic than real life. The lynchian cinema is often, and most definitely in Mulholland Drive, a surge of human emotions. Working with emotions is a delicate craft that demands understanding and depth. As Lynch puts it: \"A little bit too much, and the emotion goes away. A little bit too little, and it doesn\\'t happen.\" In Mulholland Drive, David Lynch has no problem making this balance. Lynch\\'s portraits span all kinds of dimensions and take different directions, creating incredibly realistic characters and situations. Watching Mulholland Drive is a journey through the subconscious. It is a truthful and naked movie with indisputable artistic value. That is why I love Mulholland Drive and what\\'s taken it to the pinnacle of cinema history. The ultimate movie.',\n",
      "       b\"This movie is filled with so many idiotic moments, that you wonder how it ever got made. For example, they get into the sewers from the Capitol and while they're in the sewers you can see signs pointing to various government buildings, and then they come up in the middle of the street! I highly doubt that government buildings would provide public access through the city sewer system. Anyways, I gave this a 2 instead of a 1 just because of its comic value. I laughed the whole way through at the idiocy of everyone involved in this movie.\",\n",
      "       b\"Created by Dennis Spooner, 'Department S' was a glossy thriller show about an offshoot of Interpol, based in Geneva, created to solve baffling mysteries the police could not handle. If a plane landed at Heathrow with no-one aboard, if a man was found wandering around London in a space-suit, if the passenger of a Rolls Royce suddenly transmogrified into a skeleton, if a train pulling into a tube station turned out to contain dead commuters, you called on 'Department S' to sort things out.<br /><br />Peter Wyngarde played 'Jason King', a flamboyantly dressed crime novelist whose fertile imagination helped crack many of the bizarre cases. King caught the public's fancy and was later awarded a spin-off show. He was ably assisted by American 'Stuart Sullivan' ( Joel Fabiani ) and the delectable 'Annabelle Hurst' ( Rosemary Nicols ). Unusually for a '60's show, the department was headed by a black man - 'Sir Curtis Seretse' ( Dennis Alaba Peters ) If the show looked and felt a lot like 'The Avengers', it was hardly surprising. It shared many of the same writers and directors! The colourful titles were designed by Chambers & Partners, and are worth tuning in for alone. As was the case with so many I.T.C. series, the music was composed by Edwin Astley. His theme for 'Department S' has got to rank as one of the best television themes of all time.<br /><br />Predictably, the show looks a little sexist and dated now, but don't let that dissuade you from tuning in. Imagine a hybrid of 'Jonathan Creek' and the 'Austin Powers' movies and you've got 'Department S'!<br /><br />Trivia Note: the episode 'A Small War Of Nerves' features a young Sir Anthony Hopkins in a major role!\",\n",
      "       b'I liked this quite a bit but I have friends that hated this. There\\'s no sex, but there\\'s very little nudity in any of the episodes - which is a good thing. Also, Keitaro has a toilet fixation that\\'s explored in at least half the episodes. (Toilets are way more advanced in Japan.) Hmm, I\\'m wondering why I rated this so high myself...? It certainly isn\\'t that I like naked cartoon girls. In some ways, Keitaro Oe (the main character) is analogous to Johnny Bravo except instead of being an obnoxious, musclebound jock, Keitaro is a hyperactive nerd. Or you can think of him as Japan\\'s answer to Leisure Suit Larry. He\\'s easier to take if you watch it subtitled rather than dubbed, but he grows on you either way if you give him a chance. He IS the Goldenboy. <br /><br />The formula is the same for each episode. Boy meets girl, boy tries to win girl\\'s heart despite being a dorky pervert, boy somehow succeeds against all odds. Typically, the girl doesn\\'t realize she likes Keitaro until after he\\'s beaten to a pulp and/or pulled off some spectacular stunt like engineering a modern operating system in one week or winning a race against a gasoline-powered motorcycle using his bicycle.<br /><br />Episode #1 features a rich software tycoon. I think animating her boobs put a major dent in the budget because she\\'s the only female that has this kind of animation. She also dresses completely unprofessionally. Most people who rate this negatively probably never got past the first episode.<br /><br />Episode #2 has the rich, young daughter who likes to tease. She\\'s only 16 but that\\'s legal age in Japan (and in some states in the US, I might add). Her father is also a brutal yakuzza type that has a reputation for killing guys interested in his daughter. <br /><br />Girl #3 is the sweet innocent daughter of a noodle shop owner that\\'s mixed up with a bad boyfriend. Aside from Keitaro running interference for the maiden and being kissed by a guy, there\\'s almost no ecchi of any kind in this episode - a sharp drop from the previous two. Nevertheless, Keitaro and the evil boyfriend really pound each other.<br /><br />Episode #4 has Keitaro trying to impress a top-notch swimming coach. Keitaro seems more \\'direct\\' about his intentions with this particular girl than any other... and she\\'s pretty direct in return...<br /><br />Girl #5 is the biker babe. She\\'s probably the most top-heavy of the 6 (although not super-buoyant like girl #1) and \\'raciest\\' in terms of sexuality and vulgarity. This particular episode is easily the most over-the-top in terms of (lack of) realism. Keitaro should have broken every bone in his body at least twice during the race against the biker babe but I think the producers and writers said, \"It\\'s just a cartoon! We can do anything!\" This lapse in realism makes it a fan favorite.<br /><br />Finally, episode #6 introduces a new girl (that\\'s works in animation) and the previous 5 girls help Keitaro as he tries to cope with impossible time and resource constraints to get an OAV out the door by the deadline. In terms of ecchi, this one\\'s very tame as well, but there\\'s plenty of humor. The ending has all 5 extremely pretty girls from the past team up to hunt Keitaro, who slips away unnoticed, ostensibly with the intention of gang-raping him. Yeah, that -ALMOST- happens in real life. Someone crossed Ukyo Tachibana (ala Samurai Shodown) with Steve Urkel(ala Family Matters)...<br /><br />All in all, there\\'s no middle ground for this. You\\'ll either hate it or love it. If you\\'re new to anime, you probably don\\'t want to start with this. At the same time, if you can stand characters like Happosai (from Ranma 1/2) or Johnny Bravo... or you like comedies that lean more heavily towards silliness but have very sexual overtones, you should give it a shot.',\n",
      "       b\"Six students at a convent do the unthinkable - kill a nun who was overbearing. Now, eighteen years later, the nun's spirit is back and getting revenge for her murder.<br /><br />Yea, basically that's the short of it. There's more to it than that, but I still have no clue what it is. The only really cool thing is the effects on the spiritual nun, as I was pretty impressed for being a more low-budget flick. I'm also confused as to whether or not it's in English. Most of the actors are Italian, and even the title here is in Italian, yet they spoke English in the film (I think, or it might've been dubbed, I still can't tell).<br /><br />Anyway, the real premise of the film is pretty idiotic, and the ending not only doesn't make sense, it...well...doesn't make sense.\",\n",
      "       b\"CyberTracker is set in Los Angeles sometime in the near future where bodyguard Eric Phillips (co-producer Don 'The Dragon' Wilson) saves senator Robert Dilly (John Aprea) from an assassination attempt by a group known as the UHR, the Union of Human Rights, who are angry at Dilly for spearheading the Computerised Judicial System in which robots called CyberTrackers are sent out to determine & dispense justice on the guilty. Anyway, Eric saves Dilly who is very impressed & decides to see if he can trust Eric in his shady activities like the cold blooded murder of a traitor, being the fine upstanding guy that he is Eric isn't impressed when Dilly kills a woman & he is asked to keep it quiet. Eric escapes & sets out to bring Dilly down, however Dilly has lots of powerful friends & he uses his influence to frame Eric & have his CyberTrackers sent out in pursuit of him...<br /><br />Co-produced & directed by Richard Pepin I think films like CyberTracker give films a bad name, I didn't like it that much at all. The script by Jacobsen Hart is pretty predictable, it doesn't excite, it steals most of it's ideas & theme from other better sci-fi films & the heady mix of martial arts action & sci-fi don't gel that well. There a few fights, some car chases & a couple of shoot outs but it's all rather bland & forgettable. The film lacks imagination considering the film is set in the future & it deals with robots, technology & the way society is run & it's judicial system in particular. Speaking of which the fantastic Robocop (1987) mixed it's violent action & clever social commentary brilliantly but CyberTracker doesn't even try to make any relevant social statement or try to portray any meaningful moral message about law enforcement, the script basically uses the concept to have robots & shoot outs which Robocop did as well but also managed to include a good story. There is very little in CyberTracker that I can say was entertaining & that's what films are about right?<br /><br />Director Pepin does OK but nothing stands out, it's all rather forgettable & it's not particularly exciting. The sci-fi elements are nothing more than the robot side of things & as a whole the film doesn't look that futuristic. The action scenes are alright, there's some exploding cars & some shoot outs but nothing spectacular.<br /><br />Technically CyberTracker is average, for a film supposedly set in the future it already looks dated & the special effects are poor. The acting was bad, I wonder if Don 'The Dragon' Wilson signs cheques with that name?<br /><br />CyberTracker was a waste of my time, there is nothing here original or exciting & the action is instantly forgettable. Poor & that's all that needs to be said, not recommended.\",\n",
      "       b'I had no idea what I was going to see when I decided to view this film and to my surprise its just an extremely well made horror film that is easily one of the best of the 1970\\'s. Film is of course low budget and this is an excellent example of how the story and style of a film creates chills, not special effects! Strother Martin is one of the great character actors of all time and he has a rare starring role here and the film also stars Martins good friend L.Q. Jones and \"Green Acres\" Alvy Moore. Jones and Moore helped produce this film as well. TV veteran Charles Bateman is the star and \"Enter the Dragon\" beauty Ahna Capri is his girlfriend. Capri is in a bikini at the beginning of the film and she\\'s just gorgeous to look at! Film does a terrific job of staying with the story and not adding a phony feel good ending and I really liked the way the film ends. Great atmosphere, interesting story and well directed by Bernard McEveety. Martins performance is top notch also as he doesn\\'t hold back at all and really throws himself into the role of Doc. Good and underrated film!',\n",
      "       b'(Very mild spoilers; a basic plot outline, no real details) <br /><br />IF you go into this movie with sufficiently low expectations. I saw this film at a free screening a few days ago in Maryland, and the only reason I agreed to go...was because it was free. I expected a few chuckles, but as I have never been a huge fan of Tenacious D, not much more then that.<br /><br />The first ten minutes of the film are hilarious, as we are given a look at Jack Black\\'s humble Christian origins in a Midwest American town. The film then takes us years into the future, to the first meeting between JB and Kyle Gass, the second half of Tenacious D. We see the formation of the band and the genesis of its name. Finally, as the title suggests, the second half of the film details their quest to obtain the fabled \"Pick of Destiny.\" Again, the beginning of the film was laugh out loud funny, and most of the movie at least kept a smile on my face. That said, there were times it felt a bit long; it\\'s only 100 minutes, but it still felt like it should have been a bit shorter. The story is every bit as absurd as it sounds, and this is not a film you see if you want a real plot. Which is fine, except it means that many of the jokes are very hit or miss...and when they miss, they miss bad. Same thing with the songs; it is a musical, but many of the songs lost their appeal after the first minute or so...then kept going anyway.<br /><br />I will say that the R-rating really saved this movie from bombing; The D\\'s humor simply couldn\\'t work without cussing, sex, and drug references. But unless you\\'re a real fan of the band, or at the very least know you appreciate their style of comedy, I would recommend you save yourself some money and rent. \"Pick\" will make you giggle a bit...but is it worth 9 bucks? I don\\'t think so. I was tempted to rate it a 6, but since I do think that many would enjoy it enough to justify seeing it in theatres, a 7 seems more appropriate. Just be sure it\\'s your style.'],\n",
      "      dtype=object)>, <tf.Tensor: shape=(32,), dtype=int32, numpy=\n",
      "array([1, 1, 0, 0, 1, 0, 0, 0, 1, 0, 0, 0, 0, 1, 1, 0, 0, 1, 1, 1, 1, 0,\n",
      "       0, 1, 1, 0, 1, 1, 0, 0, 1, 1], dtype=int32)>)\n"
     ]
    }
   ],
   "source": [
    "for x in iter(raw_test_ds):\n",
    "    print(x)\n",
    "    break"
   ]
  },
  {
   "cell_type": "code",
   "execution_count": 10,
   "id": "265d8215-70a0-4722-bb8b-2008d47e58d1",
   "metadata": {},
   "outputs": [],
   "source": [
    "def custom_standardization(input_data):\n",
    "    l_case = tf.strings.lower(input_data)\n",
    "    stp_html = tf.strings.regex_replace(\n",
    "        l_case, '<br/>', ' '\n",
    "    )\n",
    "    return tf.strings.regex_replace(\n",
    "        stp_html,\n",
    "        f'[{re.escape(string.punctuation)}]',\n",
    "        ''\n",
    "    )\n",
    "\n",
    "def vectorize_text(text, label):\n",
    "    text = tf.expand_dims(text, -1)\n",
    "    return vectorize_layer(text), label"
   ]
  },
  {
   "cell_type": "code",
   "execution_count": 11,
   "id": "ab2f4da5-224d-41f3-a0c3-7789b11ec4f2",
   "metadata": {},
   "outputs": [],
   "source": [
    "max_features = 10000\n",
    "seq_len = 250\n",
    "\n",
    "vectorize_layer = layers.TextVectorization(\n",
    "    standardize=custom_standardization,\n",
    "    max_tokens=max_features,\n",
    "    output_mode='int',\n",
    "    output_sequence_length=seq_len \n",
    ")"
   ]
  },
  {
   "cell_type": "code",
   "execution_count": 12,
   "id": "89e2f739-5c85-4262-8083-0326d38d831f",
   "metadata": {},
   "outputs": [
    {
     "name": "stderr",
     "output_type": "stream",
     "text": [
      "2024-04-03 21:03:32.778431: W tensorflow/core/framework/local_rendezvous.cc:404] Local rendezvous is aborting with status: OUT_OF_RANGE: End of sequence\n"
     ]
    }
   ],
   "source": [
    "train_text = raw_train_ds.map(lambda x, y: x)\n",
    "vectorize_layer.adapt(train_text)\n"
   ]
  },
  {
   "cell_type": "code",
   "execution_count": 13,
   "id": "79616622-b540-4643-b694-bdbd8464ed8a",
   "metadata": {},
   "outputs": [],
   "source": [
    "AUTOTUNE = tf.data.AUTOTUNE\n",
    "\n",
    "train_ds = raw_train_ds.map(vectorize_text).cache().prefetch(buffer_size=AUTOTUNE)\n",
    "val_ds = raw_val_ds.map(vectorize_text).cache().prefetch(buffer_size=AUTOTUNE)\n",
    "test_ds = raw_test_ds.map(vectorize_text).cache().prefetch(buffer_size=AUTOTUNE)\n"
   ]
  },
  {
   "cell_type": "code",
   "execution_count": 20,
   "id": "98ab64c3-d897-41a8-aac4-1f6721f2ebb4",
   "metadata": {},
   "outputs": [
    {
     "data": {
      "text/html": [
       "<pre style=\"white-space:pre;overflow-x:auto;line-height:normal;font-family:Menlo,'DejaVu Sans Mono',consolas,'Courier New',monospace\"><span style=\"font-weight: bold\">Model: \"sequential_2\"</span>\n",
       "</pre>\n"
      ],
      "text/plain": [
       "\u001b[1mModel: \"sequential_2\"\u001b[0m\n"
      ]
     },
     "metadata": {},
     "output_type": "display_data"
    },
    {
     "data": {
      "text/html": [
       "<pre style=\"white-space:pre;overflow-x:auto;line-height:normal;font-family:Menlo,'DejaVu Sans Mono',consolas,'Courier New',monospace\">┏━━━━━━━━━━━━━━━━━━━━━━━━━━━━━━━━━┳━━━━━━━━━━━━━━━━━━━━━━━━┳━━━━━━━━━━━━━━━┓\n",
       "┃<span style=\"font-weight: bold\"> Layer (type)                    </span>┃<span style=\"font-weight: bold\"> Output Shape           </span>┃<span style=\"font-weight: bold\">       Param # </span>┃\n",
       "┡━━━━━━━━━━━━━━━━━━━━━━━━━━━━━━━━━╇━━━━━━━━━━━━━━━━━━━━━━━━╇━━━━━━━━━━━━━━━┩\n",
       "│ embedding_1 (<span style=\"color: #0087ff; text-decoration-color: #0087ff\">Embedding</span>)         │ ?                      │   <span style=\"color: #00af00; text-decoration-color: #00af00\">0</span> (unbuilt) │\n",
       "├─────────────────────────────────┼────────────────────────┼───────────────┤\n",
       "│ bidirectional_2 (<span style=\"color: #0087ff; text-decoration-color: #0087ff\">Bidirectional</span>) │ ?                      │   <span style=\"color: #00af00; text-decoration-color: #00af00\">0</span> (unbuilt) │\n",
       "├─────────────────────────────────┼────────────────────────┼───────────────┤\n",
       "│ bidirectional_3 (<span style=\"color: #0087ff; text-decoration-color: #0087ff\">Bidirectional</span>) │ ?                      │   <span style=\"color: #00af00; text-decoration-color: #00af00\">0</span> (unbuilt) │\n",
       "├─────────────────────────────────┼────────────────────────┼───────────────┤\n",
       "│ dense_2 (<span style=\"color: #0087ff; text-decoration-color: #0087ff\">Dense</span>)                 │ ?                      │   <span style=\"color: #00af00; text-decoration-color: #00af00\">0</span> (unbuilt) │\n",
       "├─────────────────────────────────┼────────────────────────┼───────────────┤\n",
       "│ dense_3 (<span style=\"color: #0087ff; text-decoration-color: #0087ff\">Dense</span>)                 │ ?                      │   <span style=\"color: #00af00; text-decoration-color: #00af00\">0</span> (unbuilt) │\n",
       "└─────────────────────────────────┴────────────────────────┴───────────────┘\n",
       "</pre>\n"
      ],
      "text/plain": [
       "┏━━━━━━━━━━━━━━━━━━━━━━━━━━━━━━━━━┳━━━━━━━━━━━━━━━━━━━━━━━━┳━━━━━━━━━━━━━━━┓\n",
       "┃\u001b[1m \u001b[0m\u001b[1mLayer (type)                   \u001b[0m\u001b[1m \u001b[0m┃\u001b[1m \u001b[0m\u001b[1mOutput Shape          \u001b[0m\u001b[1m \u001b[0m┃\u001b[1m \u001b[0m\u001b[1m      Param #\u001b[0m\u001b[1m \u001b[0m┃\n",
       "┡━━━━━━━━━━━━━━━━━━━━━━━━━━━━━━━━━╇━━━━━━━━━━━━━━━━━━━━━━━━╇━━━━━━━━━━━━━━━┩\n",
       "│ embedding_1 (\u001b[38;5;33mEmbedding\u001b[0m)         │ ?                      │   \u001b[38;5;34m0\u001b[0m (unbuilt) │\n",
       "├─────────────────────────────────┼────────────────────────┼───────────────┤\n",
       "│ bidirectional_2 (\u001b[38;5;33mBidirectional\u001b[0m) │ ?                      │   \u001b[38;5;34m0\u001b[0m (unbuilt) │\n",
       "├─────────────────────────────────┼────────────────────────┼───────────────┤\n",
       "│ bidirectional_3 (\u001b[38;5;33mBidirectional\u001b[0m) │ ?                      │   \u001b[38;5;34m0\u001b[0m (unbuilt) │\n",
       "├─────────────────────────────────┼────────────────────────┼───────────────┤\n",
       "│ dense_2 (\u001b[38;5;33mDense\u001b[0m)                 │ ?                      │   \u001b[38;5;34m0\u001b[0m (unbuilt) │\n",
       "├─────────────────────────────────┼────────────────────────┼───────────────┤\n",
       "│ dense_3 (\u001b[38;5;33mDense\u001b[0m)                 │ ?                      │   \u001b[38;5;34m0\u001b[0m (unbuilt) │\n",
       "└─────────────────────────────────┴────────────────────────┴───────────────┘\n"
      ]
     },
     "metadata": {},
     "output_type": "display_data"
    },
    {
     "data": {
      "text/html": [
       "<pre style=\"white-space:pre;overflow-x:auto;line-height:normal;font-family:Menlo,'DejaVu Sans Mono',consolas,'Courier New',monospace\"><span style=\"font-weight: bold\"> Total params: </span><span style=\"color: #00af00; text-decoration-color: #00af00\">0</span> (0.00 B)\n",
       "</pre>\n"
      ],
      "text/plain": [
       "\u001b[1m Total params: \u001b[0m\u001b[38;5;34m0\u001b[0m (0.00 B)\n"
      ]
     },
     "metadata": {},
     "output_type": "display_data"
    },
    {
     "data": {
      "text/html": [
       "<pre style=\"white-space:pre;overflow-x:auto;line-height:normal;font-family:Menlo,'DejaVu Sans Mono',consolas,'Courier New',monospace\"><span style=\"font-weight: bold\"> Trainable params: </span><span style=\"color: #00af00; text-decoration-color: #00af00\">0</span> (0.00 B)\n",
       "</pre>\n"
      ],
      "text/plain": [
       "\u001b[1m Trainable params: \u001b[0m\u001b[38;5;34m0\u001b[0m (0.00 B)\n"
      ]
     },
     "metadata": {},
     "output_type": "display_data"
    },
    {
     "data": {
      "text/html": [
       "<pre style=\"white-space:pre;overflow-x:auto;line-height:normal;font-family:Menlo,'DejaVu Sans Mono',consolas,'Courier New',monospace\"><span style=\"font-weight: bold\"> Non-trainable params: </span><span style=\"color: #00af00; text-decoration-color: #00af00\">0</span> (0.00 B)\n",
       "</pre>\n"
      ],
      "text/plain": [
       "\u001b[1m Non-trainable params: \u001b[0m\u001b[38;5;34m0\u001b[0m (0.00 B)\n"
      ]
     },
     "metadata": {},
     "output_type": "display_data"
    }
   ],
   "source": [
    "emb_dims = 128\n",
    "\n",
    "model = Sequential([\n",
    "    layers.Embedding(\n",
    "        len(vectorize_layer.get_vocabulary()), 64, mask_zero=True),\n",
    "    layers.Bidirectional(\n",
    "        layers.LSTM(64, return_sequences=True)\n",
    "    ),\n",
    "    layers.Bidirectional(\n",
    "        layers.LSTM(32),\n",
    "    ),\n",
    "    layers.Dense(64, activation='relu'),\n",
    "    layers.Dense(1),\n",
    "])\n",
    "\n",
    "model.compile(\n",
    "    optimizer='adam',\n",
    "    loss=losses.BinaryCrossentropy(from_logits=True),\n",
    "    metrics=['accuracy']\n",
    ")\n",
    "\n",
    "model.summary()"
   ]
  },
  {
   "cell_type": "code",
   "execution_count": 21,
   "id": "ded90d8d-e62c-4308-af7e-5cb75b226d13",
   "metadata": {
    "scrolled": true
   },
   "outputs": [
    {
     "name": "stdout",
     "output_type": "stream",
     "text": [
      "Epoch 1/10\n",
      "\u001b[1m625/625\u001b[0m \u001b[32m━━━━━━━━━━━━━━━━━━━━\u001b[0m\u001b[37m\u001b[0m \u001b[1m130s\u001b[0m 198ms/step - accuracy: 0.6524 - loss: 0.5911 - val_accuracy: 0.8344 - val_loss: 0.3420\n",
      "Epoch 2/10\n",
      "\u001b[1m625/625\u001b[0m \u001b[32m━━━━━━━━━━━━━━━━━━━━\u001b[0m\u001b[37m\u001b[0m \u001b[1m123s\u001b[0m 196ms/step - accuracy: 0.8590 - loss: 0.3208 - val_accuracy: 0.8281 - val_loss: 0.3817\n",
      "Epoch 3/10\n",
      "\u001b[1m625/625\u001b[0m \u001b[32m━━━━━━━━━━━━━━━━━━━━\u001b[0m\u001b[37m\u001b[0m \u001b[1m127s\u001b[0m 203ms/step - accuracy: 0.9159 - loss: 0.2117 - val_accuracy: 0.8156 - val_loss: 0.3990\n",
      "Epoch 4/10\n",
      "\u001b[1m625/625\u001b[0m \u001b[32m━━━━━━━━━━━━━━━━━━━━\u001b[0m\u001b[37m\u001b[0m \u001b[1m120s\u001b[0m 193ms/step - accuracy: 0.9431 - loss: 0.1499 - val_accuracy: 0.8719 - val_loss: 0.3425\n",
      "Epoch 5/10\n",
      "\u001b[1m625/625\u001b[0m \u001b[32m━━━━━━━━━━━━━━━━━━━━\u001b[0m\u001b[37m\u001b[0m \u001b[1m182s\u001b[0m 292ms/step - accuracy: 0.9523 - loss: 0.1217 - val_accuracy: 0.8500 - val_loss: 0.5449\n",
      "Epoch 6/10\n",
      "\u001b[1m625/625\u001b[0m \u001b[32m━━━━━━━━━━━━━━━━━━━━\u001b[0m\u001b[37m\u001b[0m \u001b[1m174s\u001b[0m 278ms/step - accuracy: 0.9595 - loss: 0.1029 - val_accuracy: 0.8281 - val_loss: 0.4595\n",
      "Epoch 7/10\n",
      "\u001b[1m625/625\u001b[0m \u001b[32m━━━━━━━━━━━━━━━━━━━━\u001b[0m\u001b[37m\u001b[0m \u001b[1m133s\u001b[0m 212ms/step - accuracy: 0.9746 - loss: 0.0697 - val_accuracy: 0.8250 - val_loss: 0.5679\n",
      "Epoch 8/10\n",
      "\u001b[1m625/625\u001b[0m \u001b[32m━━━━━━━━━━━━━━━━━━━━\u001b[0m\u001b[37m\u001b[0m \u001b[1m152s\u001b[0m 243ms/step - accuracy: 0.9839 - loss: 0.0433 - val_accuracy: 0.8500 - val_loss: 0.5147\n",
      "Epoch 9/10\n",
      "\u001b[1m625/625\u001b[0m \u001b[32m━━━━━━━━━━━━━━━━━━━━\u001b[0m\u001b[37m\u001b[0m \u001b[1m123s\u001b[0m 197ms/step - accuracy: 0.9847 - loss: 0.0414 - val_accuracy: 0.8594 - val_loss: 0.6136\n",
      "Epoch 10/10\n",
      "\u001b[1m625/625\u001b[0m \u001b[32m━━━━━━━━━━━━━━━━━━━━\u001b[0m\u001b[37m\u001b[0m \u001b[1m122s\u001b[0m 196ms/step - accuracy: 0.9901 - loss: 0.0287 - val_accuracy: 0.7719 - val_loss: 1.0627\n"
     ]
    },
    {
     "name": "stderr",
     "output_type": "stream",
     "text": [
      "2024-04-03 21:47:29.754741: W tensorflow/core/kernels/data/cache_dataset_ops.cc:858] The calling iterator did not fully read the dataset being cached. In order to avoid unexpected truncation of the dataset, the partially cached contents of the dataset  will be discarded. This can happen if you have an input pipeline similar to `dataset.cache().take(k).repeat()`. You should use `dataset.take(k).cache().repeat()` instead.\n"
     ]
    },
    {
     "data": {
      "text/plain": [
       "<keras.src.callbacks.history.History at 0x7f23a8e9bca0>"
      ]
     },
     "execution_count": 21,
     "metadata": {},
     "output_type": "execute_result"
    }
   ],
   "source": [
    "model.fit(\n",
    "    train_ds, \n",
    "    validation_data=val_ds,\n",
    "    validation_steps=10,\n",
    "    epochs=10,\n",
    "    callbacks=[\n",
    "        callbacks.TensorBoard(log_dir=\"logs/ex7\"),\n",
    "    ]\n",
    ")"
   ]
  },
  {
   "cell_type": "code",
   "execution_count": 17,
   "id": "2266b9d9-674e-486c-813d-7e8102462eba",
   "metadata": {},
   "outputs": [
    {
     "data": {
      "text/html": [
       "\n",
       "      <iframe id=\"tensorboard-frame-48f8c3e6f6ebbfe2\" width=\"100%\" height=\"800\" frameborder=\"0\">\n",
       "      </iframe>\n",
       "      <script>\n",
       "        (function() {\n",
       "          const frame = document.getElementById(\"tensorboard-frame-48f8c3e6f6ebbfe2\");\n",
       "          const url = new URL(\"/\", window.location);\n",
       "          const port = 6006;\n",
       "          if (port) {\n",
       "            url.port = port;\n",
       "          }\n",
       "          frame.src = url;\n",
       "        })();\n",
       "      </script>\n",
       "    "
      ],
      "text/plain": [
       "<IPython.core.display.HTML object>"
      ]
     },
     "metadata": {},
     "output_type": "display_data"
    }
   ],
   "source": [
    "%load_ext tensorboard\n",
    "%tensorboard --logdir logs"
   ]
  },
  {
   "cell_type": "code",
   "execution_count": 22,
   "id": "fbe73fde-9297-4b81-92c7-c384dc249fea",
   "metadata": {},
   "outputs": [
    {
     "name": "stdout",
     "output_type": "stream",
     "text": [
      "\u001b[1m782/782\u001b[0m \u001b[32m━━━━━━━━━━━━━━━━━━━━\u001b[0m\u001b[37m\u001b[0m \u001b[1m54s\u001b[0m 69ms/step - accuracy: 0.8085 - loss: 0.8425\n"
     ]
    },
    {
     "data": {
      "text/plain": [
       "[0.8463099598884583, 0.8087999820709229]"
      ]
     },
     "execution_count": 22,
     "metadata": {},
     "output_type": "execute_result"
    }
   ],
   "source": [
    "model.evaluate(test_ds)"
   ]
  },
  {
   "cell_type": "code",
   "execution_count": 23,
   "id": "7dc3f2f7-adb7-4d8d-8d90-63a510f999f0",
   "metadata": {},
   "outputs": [
    {
     "name": "stdout",
     "output_type": "stream",
     "text": [
      "\u001b[1m782/782\u001b[0m \u001b[32m━━━━━━━━━━━━━━━━━━━━\u001b[0m\u001b[37m\u001b[0m \u001b[1m48s\u001b[0m 59ms/step - accuracy: 0.8126 - loss: 0.8441\n"
     ]
    },
    {
     "data": {
      "text/plain": [
       "[0.8468451499938965, 0.8138399720191956]"
      ]
     },
     "execution_count": 23,
     "metadata": {},
     "output_type": "execute_result"
    }
   ],
   "source": [
    "export_model = tf.keras.Sequential([\n",
    "    vectorize_layer,\n",
    "    model,\n",
    "    layers.Activation('sigmoid')\n",
    "])\n",
    "\n",
    "export_model.compile(\n",
    "    loss=losses.BinaryCrossentropy(from_logits=False),\n",
    "    optimizer=\"adam\",\n",
    "    metrics=[\"accuracy\"]\n",
    ")\n",
    "\n",
    "\n",
    "export_model.evaluate(raw_test_ds)"
   ]
  },
  {
   "cell_type": "code",
   "execution_count": 24,
   "id": "7c1a4708-f4af-47c0-b1ed-be070c37a26f",
   "metadata": {},
   "outputs": [
    {
     "data": {
      "text/plain": [
       "<tf.Tensor: shape=(4, 1), dtype=float32, numpy=\n",
       "array([[9.1967854e-04],\n",
       "       [6.6537935e-01],\n",
       "       [5.3871681e-05],\n",
       "       [3.1485815e-05]], dtype=float32)>"
      ]
     },
     "execution_count": 24,
     "metadata": {},
     "output_type": "execute_result"
    }
   ],
   "source": [
    "export_model(tf.constant(['The movie is very boring', 'A Good Movie' , 'very bad worst movie',  'Worst movie, boring' ]))"
   ]
  },
  {
   "cell_type": "code",
   "execution_count": 25,
   "id": "a914493e-41b6-45d5-a077-fd4a04b45f36",
   "metadata": {},
   "outputs": [],
   "source": [
    "export_model.save('sentence_classificatoin_model.keras')"
   ]
  },
  {
   "cell_type": "code",
   "execution_count": null,
   "id": "54f7c4ec-03b6-456c-af33-4d45087ba1ae",
   "metadata": {},
   "outputs": [],
   "source": []
  }
 ],
 "metadata": {
  "kernelspec": {
   "display_name": "Python 3 (ipykernel)",
   "language": "python",
   "name": "python3"
  },
  "language_info": {
   "codemirror_mode": {
    "name": "ipython",
    "version": 3
   },
   "file_extension": ".py",
   "mimetype": "text/x-python",
   "name": "python",
   "nbconvert_exporter": "python",
   "pygments_lexer": "ipython3",
   "version": "3.9.19"
  }
 },
 "nbformat": 4,
 "nbformat_minor": 5
}
